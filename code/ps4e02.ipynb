{
 "cells": [
  {
   "cell_type": "code",
   "execution_count": 1,
   "id": "ac19405e",
   "metadata": {
    "_cell_guid": "b1076dfc-b9ad-4769-8c92-a6c4dae69d19",
    "_uuid": "8f2839f25d086af736a60e9eeb907d3b93b6e0e5",
    "execution": {
     "iopub.execute_input": "2024-02-07T15:38:44.452701Z",
     "iopub.status.busy": "2024-02-07T15:38:44.452107Z",
     "iopub.status.idle": "2024-02-07T15:38:45.362318Z",
     "shell.execute_reply": "2024-02-07T15:38:45.361099Z"
    },
    "papermill": {
     "duration": 0.938517,
     "end_time": "2024-02-07T15:38:45.365003",
     "exception": false,
     "start_time": "2024-02-07T15:38:44.426486",
     "status": "completed"
    },
    "tags": []
   },
   "outputs": [
    {
     "name": "stdout",
     "output_type": "stream",
     "text": [
      "/kaggle/input/obesity-or-cvd-risk-classifyregressorcluster/ObesityDataSet.csv\n",
      "/kaggle/input/playground-series-s4e2/sample_submission.csv\n",
      "/kaggle/input/playground-series-s4e2/train.csv\n",
      "/kaggle/input/playground-series-s4e2/test.csv\n"
     ]
    }
   ],
   "source": [
    "# This Python 3 environment comes with many helpful analytics libraries installed\n",
    "# It is defined by the kaggle/python Docker image: https://github.com/kaggle/docker-python\n",
    "# For example, here's several helpful packages to load\n",
    "\n",
    "import numpy as np # linear algebra\n",
    "import pandas as pd # data processing, CSV file I/O (e.g. pd.read_csv)\n",
    "\n",
    "# Input data files are available in the read-only \"../input/\" directory\n",
    "# For example, running this (by clicking run or pressing Shift+Enter) will list all files under the input directory\n",
    "\n",
    "import os\n",
    "for dirname, _, filenames in os.walk('/kaggle/input'):\n",
    "    for filename in filenames:\n",
    "        print(os.path.join(dirname, filename))\n",
    "\n",
    "# You can write up to 20GB to the current directory (/kaggle/working/) that gets preserved as output when you create a version using \"Save & Run All\" \n",
    "# You can also write temporary files to /kaggle/temp/, but they won't be saved outside of the current session"
   ]
  },
  {
   "cell_type": "code",
   "execution_count": 2,
   "id": "c059e40f",
   "metadata": {
    "execution": {
     "iopub.execute_input": "2024-02-07T15:38:45.414781Z",
     "iopub.status.busy": "2024-02-07T15:38:45.413694Z",
     "iopub.status.idle": "2024-02-07T15:38:45.418812Z",
     "shell.execute_reply": "2024-02-07T15:38:45.417607Z"
    },
    "papermill": {
     "duration": 0.033722,
     "end_time": "2024-02-07T15:38:45.421686",
     "exception": false,
     "start_time": "2024-02-07T15:38:45.387964",
     "status": "completed"
    },
    "tags": []
   },
   "outputs": [],
   "source": [
    "random_state=42"
   ]
  },
  {
   "cell_type": "code",
   "execution_count": 3,
   "id": "c437f2df",
   "metadata": {
    "execution": {
     "iopub.execute_input": "2024-02-07T15:38:45.469791Z",
     "iopub.status.busy": "2024-02-07T15:38:45.469242Z",
     "iopub.status.idle": "2024-02-07T15:39:02.734339Z",
     "shell.execute_reply": "2024-02-07T15:39:02.732815Z"
    },
    "papermill": {
     "duration": 17.292171,
     "end_time": "2024-02-07T15:39:02.737237",
     "exception": false,
     "start_time": "2024-02-07T15:38:45.445066",
     "status": "completed"
    },
    "tags": []
   },
   "outputs": [
    {
     "name": "stdout",
     "output_type": "stream",
     "text": [
      "Collecting lazypredict\r\n",
      "  Downloading lazypredict-0.2.12-py2.py3-none-any.whl (12 kB)\r\n",
      "Requirement already satisfied: click in /opt/conda/lib/python3.10/site-packages (from lazypredict) (8.1.7)\r\n",
      "Requirement already satisfied: scikit-learn in /opt/conda/lib/python3.10/site-packages (from lazypredict) (1.2.2)\r\n",
      "Requirement already satisfied: pandas in /opt/conda/lib/python3.10/site-packages (from lazypredict) (2.2.0)\r\n",
      "Requirement already satisfied: tqdm in /opt/conda/lib/python3.10/site-packages (from lazypredict) (4.66.1)\r\n",
      "Requirement already satisfied: joblib in /opt/conda/lib/python3.10/site-packages (from lazypredict) (1.3.2)\r\n",
      "Requirement already satisfied: lightgbm in /opt/conda/lib/python3.10/site-packages (from lazypredict) (4.2.0)\r\n",
      "Requirement already satisfied: xgboost in /opt/conda/lib/python3.10/site-packages (from lazypredict) (2.0.3)\r\n",
      "Requirement already satisfied: numpy in /opt/conda/lib/python3.10/site-packages (from lightgbm->lazypredict) (1.24.4)\r\n",
      "Requirement already satisfied: scipy in /opt/conda/lib/python3.10/site-packages (from lightgbm->lazypredict) (1.11.4)\r\n",
      "Requirement already satisfied: python-dateutil>=2.8.2 in /opt/conda/lib/python3.10/site-packages (from pandas->lazypredict) (2.8.2)\r\n",
      "Requirement already satisfied: pytz>=2020.1 in /opt/conda/lib/python3.10/site-packages (from pandas->lazypredict) (2023.3.post1)\r\n",
      "Requirement already satisfied: tzdata>=2022.7 in /opt/conda/lib/python3.10/site-packages (from pandas->lazypredict) (2023.4)\r\n",
      "Requirement already satisfied: threadpoolctl>=2.0.0 in /opt/conda/lib/python3.10/site-packages (from scikit-learn->lazypredict) (3.2.0)\r\n",
      "Requirement already satisfied: six>=1.5 in /opt/conda/lib/python3.10/site-packages (from python-dateutil>=2.8.2->pandas->lazypredict) (1.16.0)\r\n",
      "Installing collected packages: lazypredict\r\n",
      "Successfully installed lazypredict-0.2.12\r\n",
      "Note: you may need to restart the kernel to use updated packages.\n"
     ]
    }
   ],
   "source": [
    "%pip install lazypredict"
   ]
  },
  {
   "cell_type": "code",
   "execution_count": 4,
   "id": "10f66d6f",
   "metadata": {
    "execution": {
     "iopub.execute_input": "2024-02-07T15:39:02.786825Z",
     "iopub.status.busy": "2024-02-07T15:39:02.786354Z",
     "iopub.status.idle": "2024-02-07T15:39:04.517843Z",
     "shell.execute_reply": "2024-02-07T15:39:04.516548Z"
    },
    "papermill": {
     "duration": 1.760147,
     "end_time": "2024-02-07T15:39:04.521039",
     "exception": false,
     "start_time": "2024-02-07T15:39:02.760892",
     "status": "completed"
    },
    "tags": []
   },
   "outputs": [],
   "source": [
    "from sklearn.preprocessing import LabelEncoder\n",
    "\n",
    "# pd.plotting.register_matplotlib_converters()\n",
    "import matplotlib.pyplot as plt\n",
    "%matplotlib inline\n",
    "import seaborn as sns"
   ]
  },
  {
   "cell_type": "markdown",
   "id": "4bc355b2",
   "metadata": {
    "papermill": {
     "duration": 0.023236,
     "end_time": "2024-02-07T15:39:04.568328",
     "exception": false,
     "start_time": "2024-02-07T15:39:04.545092",
     "status": "completed"
    },
    "tags": []
   },
   "source": [
    "# Data loading"
   ]
  },
  {
   "cell_type": "markdown",
   "id": "0bd08bbd",
   "metadata": {
    "papermill": {
     "duration": 0.02433,
     "end_time": "2024-02-07T15:39:04.616410",
     "exception": false,
     "start_time": "2024-02-07T15:39:04.592080",
     "status": "completed"
    },
    "tags": []
   },
   "source": [
    "## With no additional data"
   ]
  },
  {
   "cell_type": "code",
   "execution_count": 5,
   "id": "8eaa5483",
   "metadata": {
    "execution": {
     "iopub.execute_input": "2024-02-07T15:39:04.665738Z",
     "iopub.status.busy": "2024-02-07T15:39:04.665250Z",
     "iopub.status.idle": "2024-02-07T15:39:04.670194Z",
     "shell.execute_reply": "2024-02-07T15:39:04.668911Z"
    },
    "papermill": {
     "duration": 0.032694,
     "end_time": "2024-02-07T15:39:04.672690",
     "exception": false,
     "start_time": "2024-02-07T15:39:04.639996",
     "status": "completed"
    },
    "tags": []
   },
   "outputs": [],
   "source": [
    "# train_path = \"/kaggle/input/playground-series-s4e2/train.csv\"\n",
    "# test_path = \"/kaggle/input/playground-series-s4e2/test.csv\""
   ]
  },
  {
   "cell_type": "code",
   "execution_count": 6,
   "id": "cf2a17cf",
   "metadata": {
    "execution": {
     "iopub.execute_input": "2024-02-07T15:39:04.721459Z",
     "iopub.status.busy": "2024-02-07T15:39:04.721036Z",
     "iopub.status.idle": "2024-02-07T15:39:04.725958Z",
     "shell.execute_reply": "2024-02-07T15:39:04.724690Z"
    },
    "papermill": {
     "duration": 0.032455,
     "end_time": "2024-02-07T15:39:04.728445",
     "exception": false,
     "start_time": "2024-02-07T15:39:04.695990",
     "status": "completed"
    },
    "tags": []
   },
   "outputs": [],
   "source": [
    "# df_train = pd.read_csv(train_path)\n",
    "# df_train = df_train.set_index([\"id\"])\n",
    "\n",
    "# df_test = pd.read_csv(test_path)\n",
    "# df_test = df_test.set_index([\"id\"])"
   ]
  },
  {
   "cell_type": "markdown",
   "id": "b10fb998",
   "metadata": {
    "papermill": {
     "duration": 0.023221,
     "end_time": "2024-02-07T15:39:04.774949",
     "exception": false,
     "start_time": "2024-02-07T15:39:04.751728",
     "status": "completed"
    },
    "tags": []
   },
   "source": [
    "## With additional data"
   ]
  },
  {
   "cell_type": "code",
   "execution_count": 7,
   "id": "2be118f8",
   "metadata": {
    "execution": {
     "iopub.execute_input": "2024-02-07T15:39:04.823584Z",
     "iopub.status.busy": "2024-02-07T15:39:04.823138Z",
     "iopub.status.idle": "2024-02-07T15:39:04.828017Z",
     "shell.execute_reply": "2024-02-07T15:39:04.826699Z"
    },
    "papermill": {
     "duration": 0.032326,
     "end_time": "2024-02-07T15:39:04.830591",
     "exception": false,
     "start_time": "2024-02-07T15:39:04.798265",
     "status": "completed"
    },
    "tags": []
   },
   "outputs": [],
   "source": [
    "train_path = \"/kaggle/input/playground-series-s4e2/train.csv\"\n",
    "test_path = \"/kaggle/input/playground-series-s4e2/test.csv\""
   ]
  },
  {
   "cell_type": "code",
   "execution_count": 8,
   "id": "f3c87734",
   "metadata": {
    "execution": {
     "iopub.execute_input": "2024-02-07T15:39:04.879871Z",
     "iopub.status.busy": "2024-02-07T15:39:04.879406Z",
     "iopub.status.idle": "2024-02-07T15:39:05.096043Z",
     "shell.execute_reply": "2024-02-07T15:39:05.094741Z"
    },
    "papermill": {
     "duration": 0.243934,
     "end_time": "2024-02-07T15:39:05.098781",
     "exception": false,
     "start_time": "2024-02-07T15:39:04.854847",
     "status": "completed"
    },
    "tags": []
   },
   "outputs": [],
   "source": [
    "df_train = pd.read_csv(train_path)\n",
    "df_train = df_train.set_index([\"id\"])\n",
    "\n",
    "df_test = pd.read_csv(test_path)\n",
    "df_test = df_test.set_index([\"id\"])"
   ]
  },
  {
   "cell_type": "code",
   "execution_count": 9,
   "id": "5b4ebfb6",
   "metadata": {
    "execution": {
     "iopub.execute_input": "2024-02-07T15:39:05.148828Z",
     "iopub.status.busy": "2024-02-07T15:39:05.147927Z",
     "iopub.status.idle": "2024-02-07T15:39:05.157088Z",
     "shell.execute_reply": "2024-02-07T15:39:05.156158Z"
    },
    "papermill": {
     "duration": 0.037142,
     "end_time": "2024-02-07T15:39:05.159251",
     "exception": false,
     "start_time": "2024-02-07T15:39:05.122109",
     "status": "completed"
    },
    "tags": []
   },
   "outputs": [
    {
     "data": {
      "text/plain": [
       "(20758, 17)"
      ]
     },
     "execution_count": 9,
     "metadata": {},
     "output_type": "execute_result"
    }
   ],
   "source": [
    "df_train.shape"
   ]
  },
  {
   "cell_type": "code",
   "execution_count": 10,
   "id": "0341f334",
   "metadata": {
    "execution": {
     "iopub.execute_input": "2024-02-07T15:39:05.209424Z",
     "iopub.status.busy": "2024-02-07T15:39:05.208563Z",
     "iopub.status.idle": "2024-02-07T15:39:05.236795Z",
     "shell.execute_reply": "2024-02-07T15:39:05.235642Z"
    },
    "papermill": {
     "duration": 0.056064,
     "end_time": "2024-02-07T15:39:05.239265",
     "exception": false,
     "start_time": "2024-02-07T15:39:05.183201",
     "status": "completed"
    },
    "tags": []
   },
   "outputs": [
    {
     "data": {
      "text/html": [
       "<div>\n",
       "<style scoped>\n",
       "    .dataframe tbody tr th:only-of-type {\n",
       "        vertical-align: middle;\n",
       "    }\n",
       "\n",
       "    .dataframe tbody tr th {\n",
       "        vertical-align: top;\n",
       "    }\n",
       "\n",
       "    .dataframe thead th {\n",
       "        text-align: right;\n",
       "    }\n",
       "</style>\n",
       "<table border=\"1\" class=\"dataframe\">\n",
       "  <thead>\n",
       "    <tr style=\"text-align: right;\">\n",
       "      <th></th>\n",
       "      <th>Gender</th>\n",
       "      <th>Age</th>\n",
       "      <th>Height</th>\n",
       "      <th>Weight</th>\n",
       "      <th>family_history_with_overweight</th>\n",
       "      <th>FAVC</th>\n",
       "      <th>FCVC</th>\n",
       "      <th>NCP</th>\n",
       "      <th>CAEC</th>\n",
       "      <th>SMOKE</th>\n",
       "      <th>CH2O</th>\n",
       "      <th>SCC</th>\n",
       "      <th>FAF</th>\n",
       "      <th>TUE</th>\n",
       "      <th>CALC</th>\n",
       "      <th>MTRANS</th>\n",
       "      <th>NObeyesdad</th>\n",
       "    </tr>\n",
       "    <tr>\n",
       "      <th>id</th>\n",
       "      <th></th>\n",
       "      <th></th>\n",
       "      <th></th>\n",
       "      <th></th>\n",
       "      <th></th>\n",
       "      <th></th>\n",
       "      <th></th>\n",
       "      <th></th>\n",
       "      <th></th>\n",
       "      <th></th>\n",
       "      <th></th>\n",
       "      <th></th>\n",
       "      <th></th>\n",
       "      <th></th>\n",
       "      <th></th>\n",
       "      <th></th>\n",
       "      <th></th>\n",
       "    </tr>\n",
       "  </thead>\n",
       "  <tbody>\n",
       "    <tr>\n",
       "      <th>0</th>\n",
       "      <td>Male</td>\n",
       "      <td>24.443011</td>\n",
       "      <td>1.699998</td>\n",
       "      <td>81.669950</td>\n",
       "      <td>yes</td>\n",
       "      <td>yes</td>\n",
       "      <td>2.000000</td>\n",
       "      <td>2.983297</td>\n",
       "      <td>Sometimes</td>\n",
       "      <td>no</td>\n",
       "      <td>2.763573</td>\n",
       "      <td>no</td>\n",
       "      <td>0.000000</td>\n",
       "      <td>0.976473</td>\n",
       "      <td>Sometimes</td>\n",
       "      <td>Public_Transportation</td>\n",
       "      <td>Overweight_Level_II</td>\n",
       "    </tr>\n",
       "    <tr>\n",
       "      <th>1</th>\n",
       "      <td>Female</td>\n",
       "      <td>18.000000</td>\n",
       "      <td>1.560000</td>\n",
       "      <td>57.000000</td>\n",
       "      <td>yes</td>\n",
       "      <td>yes</td>\n",
       "      <td>2.000000</td>\n",
       "      <td>3.000000</td>\n",
       "      <td>Frequently</td>\n",
       "      <td>no</td>\n",
       "      <td>2.000000</td>\n",
       "      <td>no</td>\n",
       "      <td>1.000000</td>\n",
       "      <td>1.000000</td>\n",
       "      <td>no</td>\n",
       "      <td>Automobile</td>\n",
       "      <td>Normal_Weight</td>\n",
       "    </tr>\n",
       "    <tr>\n",
       "      <th>2</th>\n",
       "      <td>Female</td>\n",
       "      <td>18.000000</td>\n",
       "      <td>1.711460</td>\n",
       "      <td>50.165754</td>\n",
       "      <td>yes</td>\n",
       "      <td>yes</td>\n",
       "      <td>1.880534</td>\n",
       "      <td>1.411685</td>\n",
       "      <td>Sometimes</td>\n",
       "      <td>no</td>\n",
       "      <td>1.910378</td>\n",
       "      <td>no</td>\n",
       "      <td>0.866045</td>\n",
       "      <td>1.673584</td>\n",
       "      <td>no</td>\n",
       "      <td>Public_Transportation</td>\n",
       "      <td>Insufficient_Weight</td>\n",
       "    </tr>\n",
       "    <tr>\n",
       "      <th>3</th>\n",
       "      <td>Female</td>\n",
       "      <td>20.952737</td>\n",
       "      <td>1.710730</td>\n",
       "      <td>131.274851</td>\n",
       "      <td>yes</td>\n",
       "      <td>yes</td>\n",
       "      <td>3.000000</td>\n",
       "      <td>3.000000</td>\n",
       "      <td>Sometimes</td>\n",
       "      <td>no</td>\n",
       "      <td>1.674061</td>\n",
       "      <td>no</td>\n",
       "      <td>1.467863</td>\n",
       "      <td>0.780199</td>\n",
       "      <td>Sometimes</td>\n",
       "      <td>Public_Transportation</td>\n",
       "      <td>Obesity_Type_III</td>\n",
       "    </tr>\n",
       "    <tr>\n",
       "      <th>4</th>\n",
       "      <td>Male</td>\n",
       "      <td>31.641081</td>\n",
       "      <td>1.914186</td>\n",
       "      <td>93.798055</td>\n",
       "      <td>yes</td>\n",
       "      <td>yes</td>\n",
       "      <td>2.679664</td>\n",
       "      <td>1.971472</td>\n",
       "      <td>Sometimes</td>\n",
       "      <td>no</td>\n",
       "      <td>1.979848</td>\n",
       "      <td>no</td>\n",
       "      <td>1.967973</td>\n",
       "      <td>0.931721</td>\n",
       "      <td>Sometimes</td>\n",
       "      <td>Public_Transportation</td>\n",
       "      <td>Overweight_Level_II</td>\n",
       "    </tr>\n",
       "  </tbody>\n",
       "</table>\n",
       "</div>"
      ],
      "text/plain": [
       "    Gender        Age    Height      Weight family_history_with_overweight  \\\n",
       "id                                                                           \n",
       "0     Male  24.443011  1.699998   81.669950                            yes   \n",
       "1   Female  18.000000  1.560000   57.000000                            yes   \n",
       "2   Female  18.000000  1.711460   50.165754                            yes   \n",
       "3   Female  20.952737  1.710730  131.274851                            yes   \n",
       "4     Male  31.641081  1.914186   93.798055                            yes   \n",
       "\n",
       "   FAVC      FCVC       NCP        CAEC SMOKE      CH2O SCC       FAF  \\\n",
       "id                                                                      \n",
       "0   yes  2.000000  2.983297   Sometimes    no  2.763573  no  0.000000   \n",
       "1   yes  2.000000  3.000000  Frequently    no  2.000000  no  1.000000   \n",
       "2   yes  1.880534  1.411685   Sometimes    no  1.910378  no  0.866045   \n",
       "3   yes  3.000000  3.000000   Sometimes    no  1.674061  no  1.467863   \n",
       "4   yes  2.679664  1.971472   Sometimes    no  1.979848  no  1.967973   \n",
       "\n",
       "         TUE       CALC                 MTRANS           NObeyesdad  \n",
       "id                                                                   \n",
       "0   0.976473  Sometimes  Public_Transportation  Overweight_Level_II  \n",
       "1   1.000000         no             Automobile        Normal_Weight  \n",
       "2   1.673584         no  Public_Transportation  Insufficient_Weight  \n",
       "3   0.780199  Sometimes  Public_Transportation     Obesity_Type_III  \n",
       "4   0.931721  Sometimes  Public_Transportation  Overweight_Level_II  "
      ]
     },
     "execution_count": 10,
     "metadata": {},
     "output_type": "execute_result"
    }
   ],
   "source": [
    "df_train.head(5)"
   ]
  },
  {
   "cell_type": "code",
   "execution_count": 11,
   "id": "4d377c5a",
   "metadata": {
    "execution": {
     "iopub.execute_input": "2024-02-07T15:39:05.291111Z",
     "iopub.status.busy": "2024-02-07T15:39:05.289797Z",
     "iopub.status.idle": "2024-02-07T15:39:05.296789Z",
     "shell.execute_reply": "2024-02-07T15:39:05.295715Z"
    },
    "papermill": {
     "duration": 0.035599,
     "end_time": "2024-02-07T15:39:05.299302",
     "exception": false,
     "start_time": "2024-02-07T15:39:05.263703",
     "status": "completed"
    },
    "tags": []
   },
   "outputs": [
    {
     "data": {
      "text/plain": [
       "(13840, 16)"
      ]
     },
     "execution_count": 11,
     "metadata": {},
     "output_type": "execute_result"
    }
   ],
   "source": [
    "df_test.shape"
   ]
  },
  {
   "cell_type": "code",
   "execution_count": 12,
   "id": "21e134ed",
   "metadata": {
    "execution": {
     "iopub.execute_input": "2024-02-07T15:39:05.352213Z",
     "iopub.status.busy": "2024-02-07T15:39:05.351755Z",
     "iopub.status.idle": "2024-02-07T15:39:05.374614Z",
     "shell.execute_reply": "2024-02-07T15:39:05.373401Z"
    },
    "papermill": {
     "duration": 0.051019,
     "end_time": "2024-02-07T15:39:05.376985",
     "exception": false,
     "start_time": "2024-02-07T15:39:05.325966",
     "status": "completed"
    },
    "tags": []
   },
   "outputs": [
    {
     "data": {
      "text/html": [
       "<div>\n",
       "<style scoped>\n",
       "    .dataframe tbody tr th:only-of-type {\n",
       "        vertical-align: middle;\n",
       "    }\n",
       "\n",
       "    .dataframe tbody tr th {\n",
       "        vertical-align: top;\n",
       "    }\n",
       "\n",
       "    .dataframe thead th {\n",
       "        text-align: right;\n",
       "    }\n",
       "</style>\n",
       "<table border=\"1\" class=\"dataframe\">\n",
       "  <thead>\n",
       "    <tr style=\"text-align: right;\">\n",
       "      <th></th>\n",
       "      <th>Gender</th>\n",
       "      <th>Age</th>\n",
       "      <th>Height</th>\n",
       "      <th>Weight</th>\n",
       "      <th>family_history_with_overweight</th>\n",
       "      <th>FAVC</th>\n",
       "      <th>FCVC</th>\n",
       "      <th>NCP</th>\n",
       "      <th>CAEC</th>\n",
       "      <th>SMOKE</th>\n",
       "      <th>CH2O</th>\n",
       "      <th>SCC</th>\n",
       "      <th>FAF</th>\n",
       "      <th>TUE</th>\n",
       "      <th>CALC</th>\n",
       "      <th>MTRANS</th>\n",
       "    </tr>\n",
       "    <tr>\n",
       "      <th>id</th>\n",
       "      <th></th>\n",
       "      <th></th>\n",
       "      <th></th>\n",
       "      <th></th>\n",
       "      <th></th>\n",
       "      <th></th>\n",
       "      <th></th>\n",
       "      <th></th>\n",
       "      <th></th>\n",
       "      <th></th>\n",
       "      <th></th>\n",
       "      <th></th>\n",
       "      <th></th>\n",
       "      <th></th>\n",
       "      <th></th>\n",
       "      <th></th>\n",
       "    </tr>\n",
       "  </thead>\n",
       "  <tbody>\n",
       "    <tr>\n",
       "      <th>20758</th>\n",
       "      <td>Male</td>\n",
       "      <td>26.899886</td>\n",
       "      <td>1.848294</td>\n",
       "      <td>120.644178</td>\n",
       "      <td>yes</td>\n",
       "      <td>yes</td>\n",
       "      <td>2.938616</td>\n",
       "      <td>3.000000</td>\n",
       "      <td>Sometimes</td>\n",
       "      <td>no</td>\n",
       "      <td>2.825629</td>\n",
       "      <td>no</td>\n",
       "      <td>0.855400</td>\n",
       "      <td>0.000000</td>\n",
       "      <td>Sometimes</td>\n",
       "      <td>Public_Transportation</td>\n",
       "    </tr>\n",
       "    <tr>\n",
       "      <th>20759</th>\n",
       "      <td>Female</td>\n",
       "      <td>21.000000</td>\n",
       "      <td>1.600000</td>\n",
       "      <td>66.000000</td>\n",
       "      <td>yes</td>\n",
       "      <td>yes</td>\n",
       "      <td>2.000000</td>\n",
       "      <td>1.000000</td>\n",
       "      <td>Sometimes</td>\n",
       "      <td>no</td>\n",
       "      <td>3.000000</td>\n",
       "      <td>no</td>\n",
       "      <td>1.000000</td>\n",
       "      <td>0.000000</td>\n",
       "      <td>Sometimes</td>\n",
       "      <td>Public_Transportation</td>\n",
       "    </tr>\n",
       "    <tr>\n",
       "      <th>20760</th>\n",
       "      <td>Female</td>\n",
       "      <td>26.000000</td>\n",
       "      <td>1.643355</td>\n",
       "      <td>111.600553</td>\n",
       "      <td>yes</td>\n",
       "      <td>yes</td>\n",
       "      <td>3.000000</td>\n",
       "      <td>3.000000</td>\n",
       "      <td>Sometimes</td>\n",
       "      <td>no</td>\n",
       "      <td>2.621877</td>\n",
       "      <td>no</td>\n",
       "      <td>0.000000</td>\n",
       "      <td>0.250502</td>\n",
       "      <td>Sometimes</td>\n",
       "      <td>Public_Transportation</td>\n",
       "    </tr>\n",
       "    <tr>\n",
       "      <th>20761</th>\n",
       "      <td>Male</td>\n",
       "      <td>20.979254</td>\n",
       "      <td>1.553127</td>\n",
       "      <td>103.669116</td>\n",
       "      <td>yes</td>\n",
       "      <td>yes</td>\n",
       "      <td>2.000000</td>\n",
       "      <td>2.977909</td>\n",
       "      <td>Sometimes</td>\n",
       "      <td>no</td>\n",
       "      <td>2.786417</td>\n",
       "      <td>no</td>\n",
       "      <td>0.094851</td>\n",
       "      <td>0.000000</td>\n",
       "      <td>Sometimes</td>\n",
       "      <td>Public_Transportation</td>\n",
       "    </tr>\n",
       "    <tr>\n",
       "      <th>20762</th>\n",
       "      <td>Female</td>\n",
       "      <td>26.000000</td>\n",
       "      <td>1.627396</td>\n",
       "      <td>104.835346</td>\n",
       "      <td>yes</td>\n",
       "      <td>yes</td>\n",
       "      <td>3.000000</td>\n",
       "      <td>3.000000</td>\n",
       "      <td>Sometimes</td>\n",
       "      <td>no</td>\n",
       "      <td>2.653531</td>\n",
       "      <td>no</td>\n",
       "      <td>0.000000</td>\n",
       "      <td>0.741069</td>\n",
       "      <td>Sometimes</td>\n",
       "      <td>Public_Transportation</td>\n",
       "    </tr>\n",
       "  </tbody>\n",
       "</table>\n",
       "</div>"
      ],
      "text/plain": [
       "       Gender        Age    Height      Weight family_history_with_overweight  \\\n",
       "id                                                                              \n",
       "20758    Male  26.899886  1.848294  120.644178                            yes   \n",
       "20759  Female  21.000000  1.600000   66.000000                            yes   \n",
       "20760  Female  26.000000  1.643355  111.600553                            yes   \n",
       "20761    Male  20.979254  1.553127  103.669116                            yes   \n",
       "20762  Female  26.000000  1.627396  104.835346                            yes   \n",
       "\n",
       "      FAVC      FCVC       NCP       CAEC SMOKE      CH2O SCC       FAF  \\\n",
       "id                                                                        \n",
       "20758  yes  2.938616  3.000000  Sometimes    no  2.825629  no  0.855400   \n",
       "20759  yes  2.000000  1.000000  Sometimes    no  3.000000  no  1.000000   \n",
       "20760  yes  3.000000  3.000000  Sometimes    no  2.621877  no  0.000000   \n",
       "20761  yes  2.000000  2.977909  Sometimes    no  2.786417  no  0.094851   \n",
       "20762  yes  3.000000  3.000000  Sometimes    no  2.653531  no  0.000000   \n",
       "\n",
       "            TUE       CALC                 MTRANS  \n",
       "id                                                 \n",
       "20758  0.000000  Sometimes  Public_Transportation  \n",
       "20759  0.000000  Sometimes  Public_Transportation  \n",
       "20760  0.250502  Sometimes  Public_Transportation  \n",
       "20761  0.000000  Sometimes  Public_Transportation  \n",
       "20762  0.741069  Sometimes  Public_Transportation  "
      ]
     },
     "execution_count": 12,
     "metadata": {},
     "output_type": "execute_result"
    }
   ],
   "source": [
    "df_test.head(5)"
   ]
  },
  {
   "cell_type": "code",
   "execution_count": 13,
   "id": "235077e4",
   "metadata": {
    "execution": {
     "iopub.execute_input": "2024-02-07T15:39:05.428079Z",
     "iopub.status.busy": "2024-02-07T15:39:05.427649Z",
     "iopub.status.idle": "2024-02-07T15:39:05.448670Z",
     "shell.execute_reply": "2024-02-07T15:39:05.447513Z"
    },
    "papermill": {
     "duration": 0.049661,
     "end_time": "2024-02-07T15:39:05.451219",
     "exception": false,
     "start_time": "2024-02-07T15:39:05.401558",
     "status": "completed"
    },
    "tags": []
   },
   "outputs": [
    {
     "data": {
      "text/html": [
       "<div>\n",
       "<style scoped>\n",
       "    .dataframe tbody tr th:only-of-type {\n",
       "        vertical-align: middle;\n",
       "    }\n",
       "\n",
       "    .dataframe tbody tr th {\n",
       "        vertical-align: top;\n",
       "    }\n",
       "\n",
       "    .dataframe thead th {\n",
       "        text-align: right;\n",
       "    }\n",
       "</style>\n",
       "<table border=\"1\" class=\"dataframe\">\n",
       "  <thead>\n",
       "    <tr style=\"text-align: right;\">\n",
       "      <th></th>\n",
       "      <th>0</th>\n",
       "      <th>1</th>\n",
       "      <th>2</th>\n",
       "      <th>3</th>\n",
       "      <th>4</th>\n",
       "      <th>5</th>\n",
       "      <th>6</th>\n",
       "      <th>7</th>\n",
       "      <th>8</th>\n",
       "      <th>9</th>\n",
       "      <th>10</th>\n",
       "      <th>11</th>\n",
       "      <th>12</th>\n",
       "      <th>13</th>\n",
       "      <th>14</th>\n",
       "      <th>15</th>\n",
       "      <th>16</th>\n",
       "    </tr>\n",
       "  </thead>\n",
       "  <tbody>\n",
       "    <tr>\n",
       "      <th>0</th>\n",
       "      <td>Gender</td>\n",
       "      <td>Age</td>\n",
       "      <td>Height</td>\n",
       "      <td>Weight</td>\n",
       "      <td>family_history_with_overweight</td>\n",
       "      <td>FAVC</td>\n",
       "      <td>FCVC</td>\n",
       "      <td>NCP</td>\n",
       "      <td>CAEC</td>\n",
       "      <td>SMOKE</td>\n",
       "      <td>CH2O</td>\n",
       "      <td>SCC</td>\n",
       "      <td>FAF</td>\n",
       "      <td>TUE</td>\n",
       "      <td>CALC</td>\n",
       "      <td>MTRANS</td>\n",
       "      <td>NObeyesdad</td>\n",
       "    </tr>\n",
       "    <tr>\n",
       "      <th>1</th>\n",
       "      <td>object</td>\n",
       "      <td>float64</td>\n",
       "      <td>float64</td>\n",
       "      <td>float64</td>\n",
       "      <td>object</td>\n",
       "      <td>object</td>\n",
       "      <td>float64</td>\n",
       "      <td>float64</td>\n",
       "      <td>object</td>\n",
       "      <td>object</td>\n",
       "      <td>float64</td>\n",
       "      <td>object</td>\n",
       "      <td>float64</td>\n",
       "      <td>float64</td>\n",
       "      <td>object</td>\n",
       "      <td>object</td>\n",
       "      <td>object</td>\n",
       "    </tr>\n",
       "  </tbody>\n",
       "</table>\n",
       "</div>"
      ],
      "text/plain": [
       "       0        1        2        3                               4       5   \\\n",
       "0  Gender      Age   Height   Weight  family_history_with_overweight    FAVC   \n",
       "1  object  float64  float64  float64                          object  object   \n",
       "\n",
       "        6        7       8       9        10      11       12       13  \\\n",
       "0     FCVC      NCP    CAEC   SMOKE     CH2O     SCC      FAF      TUE   \n",
       "1  float64  float64  object  object  float64  object  float64  float64   \n",
       "\n",
       "       14      15          16  \n",
       "0    CALC  MTRANS  NObeyesdad  \n",
       "1  object  object      object  "
      ]
     },
     "execution_count": 13,
     "metadata": {},
     "output_type": "execute_result"
    }
   ],
   "source": [
    "pd.DataFrame([df_train.columns, df_train.dtypes])"
   ]
  },
  {
   "cell_type": "code",
   "execution_count": 14,
   "id": "d2db393f",
   "metadata": {
    "execution": {
     "iopub.execute_input": "2024-02-07T15:39:05.503138Z",
     "iopub.status.busy": "2024-02-07T15:39:05.502716Z",
     "iopub.status.idle": "2024-02-07T15:39:05.552528Z",
     "shell.execute_reply": "2024-02-07T15:39:05.551421Z"
    },
    "papermill": {
     "duration": 0.078498,
     "end_time": "2024-02-07T15:39:05.554934",
     "exception": false,
     "start_time": "2024-02-07T15:39:05.476436",
     "status": "completed"
    },
    "tags": []
   },
   "outputs": [
    {
     "data": {
      "text/html": [
       "<div>\n",
       "<style scoped>\n",
       "    .dataframe tbody tr th:only-of-type {\n",
       "        vertical-align: middle;\n",
       "    }\n",
       "\n",
       "    .dataframe tbody tr th {\n",
       "        vertical-align: top;\n",
       "    }\n",
       "\n",
       "    .dataframe thead th {\n",
       "        text-align: right;\n",
       "    }\n",
       "</style>\n",
       "<table border=\"1\" class=\"dataframe\">\n",
       "  <thead>\n",
       "    <tr style=\"text-align: right;\">\n",
       "      <th></th>\n",
       "      <th>Age</th>\n",
       "      <th>Height</th>\n",
       "      <th>Weight</th>\n",
       "      <th>FCVC</th>\n",
       "      <th>NCP</th>\n",
       "      <th>CH2O</th>\n",
       "      <th>FAF</th>\n",
       "      <th>TUE</th>\n",
       "    </tr>\n",
       "  </thead>\n",
       "  <tbody>\n",
       "    <tr>\n",
       "      <th>count</th>\n",
       "      <td>20758.000000</td>\n",
       "      <td>20758.000000</td>\n",
       "      <td>20758.000000</td>\n",
       "      <td>20758.000000</td>\n",
       "      <td>20758.000000</td>\n",
       "      <td>20758.000000</td>\n",
       "      <td>20758.000000</td>\n",
       "      <td>20758.000000</td>\n",
       "    </tr>\n",
       "    <tr>\n",
       "      <th>mean</th>\n",
       "      <td>23.841804</td>\n",
       "      <td>1.700245</td>\n",
       "      <td>87.887768</td>\n",
       "      <td>2.445908</td>\n",
       "      <td>2.761332</td>\n",
       "      <td>2.029418</td>\n",
       "      <td>0.981747</td>\n",
       "      <td>0.616756</td>\n",
       "    </tr>\n",
       "    <tr>\n",
       "      <th>std</th>\n",
       "      <td>5.688072</td>\n",
       "      <td>0.087312</td>\n",
       "      <td>26.379443</td>\n",
       "      <td>0.533218</td>\n",
       "      <td>0.705375</td>\n",
       "      <td>0.608467</td>\n",
       "      <td>0.838302</td>\n",
       "      <td>0.602113</td>\n",
       "    </tr>\n",
       "    <tr>\n",
       "      <th>min</th>\n",
       "      <td>14.000000</td>\n",
       "      <td>1.450000</td>\n",
       "      <td>39.000000</td>\n",
       "      <td>1.000000</td>\n",
       "      <td>1.000000</td>\n",
       "      <td>1.000000</td>\n",
       "      <td>0.000000</td>\n",
       "      <td>0.000000</td>\n",
       "    </tr>\n",
       "    <tr>\n",
       "      <th>25%</th>\n",
       "      <td>20.000000</td>\n",
       "      <td>1.631856</td>\n",
       "      <td>66.000000</td>\n",
       "      <td>2.000000</td>\n",
       "      <td>3.000000</td>\n",
       "      <td>1.792022</td>\n",
       "      <td>0.008013</td>\n",
       "      <td>0.000000</td>\n",
       "    </tr>\n",
       "    <tr>\n",
       "      <th>50%</th>\n",
       "      <td>22.815416</td>\n",
       "      <td>1.700000</td>\n",
       "      <td>84.064875</td>\n",
       "      <td>2.393837</td>\n",
       "      <td>3.000000</td>\n",
       "      <td>2.000000</td>\n",
       "      <td>1.000000</td>\n",
       "      <td>0.573887</td>\n",
       "    </tr>\n",
       "    <tr>\n",
       "      <th>75%</th>\n",
       "      <td>26.000000</td>\n",
       "      <td>1.762887</td>\n",
       "      <td>111.600553</td>\n",
       "      <td>3.000000</td>\n",
       "      <td>3.000000</td>\n",
       "      <td>2.549617</td>\n",
       "      <td>1.587406</td>\n",
       "      <td>1.000000</td>\n",
       "    </tr>\n",
       "    <tr>\n",
       "      <th>max</th>\n",
       "      <td>61.000000</td>\n",
       "      <td>1.975663</td>\n",
       "      <td>165.057269</td>\n",
       "      <td>3.000000</td>\n",
       "      <td>4.000000</td>\n",
       "      <td>3.000000</td>\n",
       "      <td>3.000000</td>\n",
       "      <td>2.000000</td>\n",
       "    </tr>\n",
       "  </tbody>\n",
       "</table>\n",
       "</div>"
      ],
      "text/plain": [
       "                Age        Height        Weight          FCVC           NCP  \\\n",
       "count  20758.000000  20758.000000  20758.000000  20758.000000  20758.000000   \n",
       "mean      23.841804      1.700245     87.887768      2.445908      2.761332   \n",
       "std        5.688072      0.087312     26.379443      0.533218      0.705375   \n",
       "min       14.000000      1.450000     39.000000      1.000000      1.000000   \n",
       "25%       20.000000      1.631856     66.000000      2.000000      3.000000   \n",
       "50%       22.815416      1.700000     84.064875      2.393837      3.000000   \n",
       "75%       26.000000      1.762887    111.600553      3.000000      3.000000   \n",
       "max       61.000000      1.975663    165.057269      3.000000      4.000000   \n",
       "\n",
       "               CH2O           FAF           TUE  \n",
       "count  20758.000000  20758.000000  20758.000000  \n",
       "mean       2.029418      0.981747      0.616756  \n",
       "std        0.608467      0.838302      0.602113  \n",
       "min        1.000000      0.000000      0.000000  \n",
       "25%        1.792022      0.008013      0.000000  \n",
       "50%        2.000000      1.000000      0.573887  \n",
       "75%        2.549617      1.587406      1.000000  \n",
       "max        3.000000      3.000000      2.000000  "
      ]
     },
     "execution_count": 14,
     "metadata": {},
     "output_type": "execute_result"
    }
   ],
   "source": [
    "df_train.describe()"
   ]
  },
  {
   "cell_type": "markdown",
   "id": "fde43d06",
   "metadata": {
    "papermill": {
     "duration": 0.024823,
     "end_time": "2024-02-07T15:39:05.605204",
     "exception": false,
     "start_time": "2024-02-07T15:39:05.580381",
     "status": "completed"
    },
    "tags": []
   },
   "source": [
    "### CALC special value"
   ]
  },
  {
   "cell_type": "code",
   "execution_count": 15,
   "id": "f5afc095",
   "metadata": {
    "execution": {
     "iopub.execute_input": "2024-02-07T15:39:05.721172Z",
     "iopub.status.busy": "2024-02-07T15:39:05.720332Z",
     "iopub.status.idle": "2024-02-07T15:39:05.735729Z",
     "shell.execute_reply": "2024-02-07T15:39:05.734696Z"
    },
    "papermill": {
     "duration": 0.107073,
     "end_time": "2024-02-07T15:39:05.737947",
     "exception": false,
     "start_time": "2024-02-07T15:39:05.630874",
     "status": "completed"
    },
    "tags": []
   },
   "outputs": [
    {
     "data": {
      "text/plain": [
       "CALC\n",
       "Sometimes     15066\n",
       "no             5163\n",
       "Frequently      529\n",
       "Name: count, dtype: int64"
      ]
     },
     "execution_count": 15,
     "metadata": {},
     "output_type": "execute_result"
    }
   ],
   "source": [
    "df_train.CALC.value_counts()"
   ]
  },
  {
   "cell_type": "code",
   "execution_count": 16,
   "id": "eeb97b33",
   "metadata": {
    "execution": {
     "iopub.execute_input": "2024-02-07T15:39:05.791545Z",
     "iopub.status.busy": "2024-02-07T15:39:05.790351Z",
     "iopub.status.idle": "2024-02-07T15:39:05.802164Z",
     "shell.execute_reply": "2024-02-07T15:39:05.801280Z"
    },
    "papermill": {
     "duration": 0.041527,
     "end_time": "2024-02-07T15:39:05.804790",
     "exception": false,
     "start_time": "2024-02-07T15:39:05.763263",
     "status": "completed"
    },
    "tags": []
   },
   "outputs": [
    {
     "data": {
      "text/plain": [
       "CALC\n",
       "Sometimes     9979\n",
       "no            3513\n",
       "Frequently     346\n",
       "Always           2\n",
       "Name: count, dtype: int64"
      ]
     },
     "execution_count": 16,
     "metadata": {},
     "output_type": "execute_result"
    }
   ],
   "source": [
    "df_test.CALC.value_counts()"
   ]
  },
  {
   "cell_type": "markdown",
   "id": "82b1e38c",
   "metadata": {
    "papermill": {
     "duration": 0.025765,
     "end_time": "2024-02-07T15:39:05.856147",
     "exception": false,
     "start_time": "2024-02-07T15:39:05.830382",
     "status": "completed"
    },
    "tags": []
   },
   "source": [
    "In [this comment](https://www.kaggle.com/competitions/playground-series-s4e2/discussion/472597#2631021), the author suggest replace \"Always\" with \"Frequently\". "
   ]
  },
  {
   "cell_type": "code",
   "execution_count": 17,
   "id": "a1bbb0dc",
   "metadata": {
    "execution": {
     "iopub.execute_input": "2024-02-07T15:39:05.909892Z",
     "iopub.status.busy": "2024-02-07T15:39:05.909179Z",
     "iopub.status.idle": "2024-02-07T15:39:05.918239Z",
     "shell.execute_reply": "2024-02-07T15:39:05.917284Z"
    },
    "papermill": {
     "duration": 0.038577,
     "end_time": "2024-02-07T15:39:05.920357",
     "exception": false,
     "start_time": "2024-02-07T15:39:05.881780",
     "status": "completed"
    },
    "tags": []
   },
   "outputs": [],
   "source": [
    "df_test[\"CALC\"] = np.where(df_test[\"CALC\"] == \"Always\", \"Frequently\", df_test[\"CALC\"])"
   ]
  },
  {
   "cell_type": "code",
   "execution_count": 18,
   "id": "bb3d2a6c",
   "metadata": {
    "execution": {
     "iopub.execute_input": "2024-02-07T15:39:05.974358Z",
     "iopub.status.busy": "2024-02-07T15:39:05.973947Z",
     "iopub.status.idle": "2024-02-07T15:39:05.984420Z",
     "shell.execute_reply": "2024-02-07T15:39:05.983590Z"
    },
    "papermill": {
     "duration": 0.04036,
     "end_time": "2024-02-07T15:39:05.986779",
     "exception": false,
     "start_time": "2024-02-07T15:39:05.946419",
     "status": "completed"
    },
    "tags": []
   },
   "outputs": [
    {
     "data": {
      "text/plain": [
       "CALC\n",
       "Sometimes     9979\n",
       "no            3513\n",
       "Frequently     348\n",
       "Name: count, dtype: int64"
      ]
     },
     "execution_count": 18,
     "metadata": {},
     "output_type": "execute_result"
    }
   ],
   "source": [
    "df_test.CALC.value_counts()"
   ]
  },
  {
   "cell_type": "markdown",
   "id": "334dbd36",
   "metadata": {
    "papermill": {
     "duration": 0.03343,
     "end_time": "2024-02-07T15:39:06.046693",
     "exception": false,
     "start_time": "2024-02-07T15:39:06.013263",
     "status": "completed"
    },
    "tags": []
   },
   "source": [
    "# Pre-processing"
   ]
  },
  {
   "cell_type": "markdown",
   "id": "e6997725",
   "metadata": {
    "_kg_hide-input": true,
    "papermill": {
     "duration": 0.028847,
     "end_time": "2024-02-07T15:39:06.114193",
     "exception": false,
     "start_time": "2024-02-07T15:39:06.085346",
     "status": "completed"
    },
    "tags": []
   },
   "source": [
    "## Categorize all \"string\" columns\n"
   ]
  },
  {
   "cell_type": "code",
   "execution_count": 19,
   "id": "aa94d86f",
   "metadata": {
    "_kg_hide-input": true,
    "execution": {
     "iopub.execute_input": "2024-02-07T15:39:06.175182Z",
     "iopub.status.busy": "2024-02-07T15:39:06.173429Z",
     "iopub.status.idle": "2024-02-07T15:39:06.193915Z",
     "shell.execute_reply": "2024-02-07T15:39:06.192018Z"
    },
    "papermill": {
     "duration": 0.055889,
     "end_time": "2024-02-07T15:39:06.196883",
     "exception": false,
     "start_time": "2024-02-07T15:39:06.140994",
     "status": "completed"
    },
    "tags": []
   },
   "outputs": [],
   "source": [
    "gender_encoder = LabelEncoder()\n",
    "gender_encoder.fit(df_test[\"Gender\"])\n",
    "gender_category_train = gender_encoder.transform(df_train[\"Gender\"])\n",
    "gender_category_test = gender_encoder.transform(df_test[\"Gender\"])\n",
    "df_train[\"Gender\"] = gender_category_train\n",
    "df_test[\"Gender\"] = gender_category_test"
   ]
  },
  {
   "cell_type": "code",
   "execution_count": 20,
   "id": "4cea14bb",
   "metadata": {
    "_kg_hide-input": true,
    "execution": {
     "iopub.execute_input": "2024-02-07T15:39:06.253216Z",
     "iopub.status.busy": "2024-02-07T15:39:06.251976Z",
     "iopub.status.idle": "2024-02-07T15:39:06.270787Z",
     "shell.execute_reply": "2024-02-07T15:39:06.269738Z"
    },
    "papermill": {
     "duration": 0.049719,
     "end_time": "2024-02-07T15:39:06.273608",
     "exception": false,
     "start_time": "2024-02-07T15:39:06.223889",
     "status": "completed"
    },
    "tags": []
   },
   "outputs": [],
   "source": [
    "family_history_with_overweight_encoder = LabelEncoder()\n",
    "family_history_with_overweight_encoder.fit(df_test[\"family_history_with_overweight\"])\n",
    "family_history_with_overweight_category_train = family_history_with_overweight_encoder.transform(df_train[\"family_history_with_overweight\"])\n",
    "family_history_with_overweight_category_test = family_history_with_overweight_encoder.transform(df_test[\"family_history_with_overweight\"])\n",
    "df_train[\"family_history_with_overweight\"] = family_history_with_overweight_category_train\n",
    "df_test[\"family_history_with_overweight\"] = family_history_with_overweight_category_test"
   ]
  },
  {
   "cell_type": "code",
   "execution_count": 21,
   "id": "fd4ff0f4",
   "metadata": {
    "_kg_hide-input": true,
    "execution": {
     "iopub.execute_input": "2024-02-07T15:39:06.332805Z",
     "iopub.status.busy": "2024-02-07T15:39:06.332357Z",
     "iopub.status.idle": "2024-02-07T15:39:06.350318Z",
     "shell.execute_reply": "2024-02-07T15:39:06.349432Z"
    },
    "papermill": {
     "duration": 0.048526,
     "end_time": "2024-02-07T15:39:06.352916",
     "exception": false,
     "start_time": "2024-02-07T15:39:06.304390",
     "status": "completed"
    },
    "tags": []
   },
   "outputs": [],
   "source": [
    "FAVC_encoder = LabelEncoder()\n",
    "FAVC_encoder.fit(df_test[\"FAVC\"])\n",
    "FAVC_category_train = FAVC_encoder.transform(df_train[\"FAVC\"])\n",
    "FAVC_category_test = FAVC_encoder.transform(df_test[\"FAVC\"])\n",
    "df_train[\"FAVC\"] = FAVC_category_train\n",
    "df_test[\"FAVC\"] = FAVC_category_test"
   ]
  },
  {
   "cell_type": "code",
   "execution_count": 22,
   "id": "6e4b9e0e",
   "metadata": {
    "_kg_hide-input": true,
    "execution": {
     "iopub.execute_input": "2024-02-07T15:39:06.407710Z",
     "iopub.status.busy": "2024-02-07T15:39:06.407240Z",
     "iopub.status.idle": "2024-02-07T15:39:06.426828Z",
     "shell.execute_reply": "2024-02-07T15:39:06.425820Z"
    },
    "papermill": {
     "duration": 0.050176,
     "end_time": "2024-02-07T15:39:06.429448",
     "exception": false,
     "start_time": "2024-02-07T15:39:06.379272",
     "status": "completed"
    },
    "tags": []
   },
   "outputs": [],
   "source": [
    "CAEC_encoder = LabelEncoder()\n",
    "CAEC_encoder.fit(df_test[\"CAEC\"])\n",
    "CAEC_category_train = CAEC_encoder.transform(df_train[\"CAEC\"])\n",
    "CAEC_category_test = CAEC_encoder.transform(df_test[\"CAEC\"])\n",
    "df_train[\"CAEC\"] = CAEC_category_train\n",
    "df_test[\"CAEC\"] = CAEC_category_test"
   ]
  },
  {
   "cell_type": "code",
   "execution_count": 23,
   "id": "1f12debb",
   "metadata": {
    "_kg_hide-input": true,
    "execution": {
     "iopub.execute_input": "2024-02-07T15:39:06.492644Z",
     "iopub.status.busy": "2024-02-07T15:39:06.491748Z",
     "iopub.status.idle": "2024-02-07T15:39:06.508997Z",
     "shell.execute_reply": "2024-02-07T15:39:06.507876Z"
    },
    "papermill": {
     "duration": 0.054632,
     "end_time": "2024-02-07T15:39:06.512293",
     "exception": false,
     "start_time": "2024-02-07T15:39:06.457661",
     "status": "completed"
    },
    "tags": []
   },
   "outputs": [],
   "source": [
    "SMOKE_encoder = LabelEncoder()\n",
    "SMOKE_encoder.fit(df_test[\"SMOKE\"])\n",
    "SMOKE_category_train = SMOKE_encoder.transform(df_train[\"SMOKE\"])\n",
    "SMOKE_category_test = SMOKE_encoder.transform(df_test[\"SMOKE\"])\n",
    "df_train[\"SMOKE\"] = SMOKE_category_train\n",
    "df_test[\"SMOKE\"] = SMOKE_category_test"
   ]
  },
  {
   "cell_type": "code",
   "execution_count": 24,
   "id": "5e8dc31b",
   "metadata": {
    "_kg_hide-input": true,
    "execution": {
     "iopub.execute_input": "2024-02-07T15:39:06.567767Z",
     "iopub.status.busy": "2024-02-07T15:39:06.566898Z",
     "iopub.status.idle": "2024-02-07T15:39:06.584634Z",
     "shell.execute_reply": "2024-02-07T15:39:06.583617Z"
    },
    "papermill": {
     "duration": 0.048407,
     "end_time": "2024-02-07T15:39:06.587392",
     "exception": false,
     "start_time": "2024-02-07T15:39:06.538985",
     "status": "completed"
    },
    "tags": []
   },
   "outputs": [],
   "source": [
    "SCC_encoder = LabelEncoder()\n",
    "SCC_encoder.fit(df_test[\"SCC\"])\n",
    "SCC_category_train = SCC_encoder.transform(df_train[\"SCC\"])\n",
    "SCC_category_test = SCC_encoder.transform(df_test[\"SCC\"])\n",
    "df_train[\"SCC\"] = SCC_category_train\n",
    "df_test[\"SCC\"] = SCC_category_test"
   ]
  },
  {
   "cell_type": "code",
   "execution_count": 25,
   "id": "7b913f49",
   "metadata": {
    "_kg_hide-input": true,
    "execution": {
     "iopub.execute_input": "2024-02-07T15:39:06.643284Z",
     "iopub.status.busy": "2024-02-07T15:39:06.642165Z",
     "iopub.status.idle": "2024-02-07T15:39:06.659881Z",
     "shell.execute_reply": "2024-02-07T15:39:06.658865Z"
    },
    "papermill": {
     "duration": 0.048585,
     "end_time": "2024-02-07T15:39:06.662650",
     "exception": false,
     "start_time": "2024-02-07T15:39:06.614065",
     "status": "completed"
    },
    "tags": []
   },
   "outputs": [],
   "source": [
    "CALC_encoder = LabelEncoder()\n",
    "CALC_encoder.fit(df_train[\"CALC\"])\n",
    "CALC_category_train = CALC_encoder.transform(df_train[\"CALC\"])\n",
    "CALC_category_test = CALC_encoder.transform(df_test[\"CALC\"])\n",
    "df_train[\"CALC\"] = CALC_category_train\n",
    "df_test[\"CALC\"] = CALC_category_test"
   ]
  },
  {
   "cell_type": "code",
   "execution_count": 26,
   "id": "60c5e84f",
   "metadata": {
    "_kg_hide-input": true,
    "execution": {
     "iopub.execute_input": "2024-02-07T15:39:06.717658Z",
     "iopub.status.busy": "2024-02-07T15:39:06.716791Z",
     "iopub.status.idle": "2024-02-07T15:39:06.733923Z",
     "shell.execute_reply": "2024-02-07T15:39:06.732970Z"
    },
    "papermill": {
     "duration": 0.047949,
     "end_time": "2024-02-07T15:39:06.736555",
     "exception": false,
     "start_time": "2024-02-07T15:39:06.688606",
     "status": "completed"
    },
    "tags": []
   },
   "outputs": [],
   "source": [
    "MTRANS_encoder = LabelEncoder()\n",
    "MTRANS_encoder.fit(df_test[\"MTRANS\"])\n",
    "MTRANS_category_train = MTRANS_encoder.transform(df_train[\"MTRANS\"])\n",
    "MTRANS_category_test = MTRANS_encoder.transform(df_test[\"MTRANS\"])\n",
    "df_train[\"MTRANS\"] = MTRANS_category_train\n",
    "df_test[\"MTRANS\"] = MTRANS_category_test"
   ]
  },
  {
   "cell_type": "code",
   "execution_count": 27,
   "id": "6932a294",
   "metadata": {
    "execution": {
     "iopub.execute_input": "2024-02-07T15:39:06.791379Z",
     "iopub.status.busy": "2024-02-07T15:39:06.790561Z",
     "iopub.status.idle": "2024-02-07T15:39:06.811678Z",
     "shell.execute_reply": "2024-02-07T15:39:06.810033Z"
    },
    "papermill": {
     "duration": 0.051952,
     "end_time": "2024-02-07T15:39:06.814552",
     "exception": false,
     "start_time": "2024-02-07T15:39:06.762600",
     "status": "completed"
    },
    "tags": []
   },
   "outputs": [
    {
     "data": {
      "text/html": [
       "<div>\n",
       "<style scoped>\n",
       "    .dataframe tbody tr th:only-of-type {\n",
       "        vertical-align: middle;\n",
       "    }\n",
       "\n",
       "    .dataframe tbody tr th {\n",
       "        vertical-align: top;\n",
       "    }\n",
       "\n",
       "    .dataframe thead th {\n",
       "        text-align: right;\n",
       "    }\n",
       "</style>\n",
       "<table border=\"1\" class=\"dataframe\">\n",
       "  <thead>\n",
       "    <tr style=\"text-align: right;\">\n",
       "      <th></th>\n",
       "      <th>Gender</th>\n",
       "      <th>Age</th>\n",
       "      <th>Height</th>\n",
       "      <th>Weight</th>\n",
       "      <th>family_history_with_overweight</th>\n",
       "      <th>FAVC</th>\n",
       "      <th>FCVC</th>\n",
       "      <th>NCP</th>\n",
       "      <th>CAEC</th>\n",
       "      <th>SMOKE</th>\n",
       "      <th>CH2O</th>\n",
       "      <th>SCC</th>\n",
       "      <th>FAF</th>\n",
       "      <th>TUE</th>\n",
       "      <th>CALC</th>\n",
       "      <th>MTRANS</th>\n",
       "      <th>NObeyesdad</th>\n",
       "    </tr>\n",
       "    <tr>\n",
       "      <th>id</th>\n",
       "      <th></th>\n",
       "      <th></th>\n",
       "      <th></th>\n",
       "      <th></th>\n",
       "      <th></th>\n",
       "      <th></th>\n",
       "      <th></th>\n",
       "      <th></th>\n",
       "      <th></th>\n",
       "      <th></th>\n",
       "      <th></th>\n",
       "      <th></th>\n",
       "      <th></th>\n",
       "      <th></th>\n",
       "      <th></th>\n",
       "      <th></th>\n",
       "      <th></th>\n",
       "    </tr>\n",
       "  </thead>\n",
       "  <tbody>\n",
       "    <tr>\n",
       "      <th>0</th>\n",
       "      <td>1</td>\n",
       "      <td>24.443011</td>\n",
       "      <td>1.699998</td>\n",
       "      <td>81.669950</td>\n",
       "      <td>1</td>\n",
       "      <td>1</td>\n",
       "      <td>2.000000</td>\n",
       "      <td>2.983297</td>\n",
       "      <td>2</td>\n",
       "      <td>0</td>\n",
       "      <td>2.763573</td>\n",
       "      <td>0</td>\n",
       "      <td>0.000000</td>\n",
       "      <td>0.976473</td>\n",
       "      <td>1</td>\n",
       "      <td>3</td>\n",
       "      <td>Overweight_Level_II</td>\n",
       "    </tr>\n",
       "    <tr>\n",
       "      <th>1</th>\n",
       "      <td>0</td>\n",
       "      <td>18.000000</td>\n",
       "      <td>1.560000</td>\n",
       "      <td>57.000000</td>\n",
       "      <td>1</td>\n",
       "      <td>1</td>\n",
       "      <td>2.000000</td>\n",
       "      <td>3.000000</td>\n",
       "      <td>1</td>\n",
       "      <td>0</td>\n",
       "      <td>2.000000</td>\n",
       "      <td>0</td>\n",
       "      <td>1.000000</td>\n",
       "      <td>1.000000</td>\n",
       "      <td>2</td>\n",
       "      <td>0</td>\n",
       "      <td>Normal_Weight</td>\n",
       "    </tr>\n",
       "    <tr>\n",
       "      <th>2</th>\n",
       "      <td>0</td>\n",
       "      <td>18.000000</td>\n",
       "      <td>1.711460</td>\n",
       "      <td>50.165754</td>\n",
       "      <td>1</td>\n",
       "      <td>1</td>\n",
       "      <td>1.880534</td>\n",
       "      <td>1.411685</td>\n",
       "      <td>2</td>\n",
       "      <td>0</td>\n",
       "      <td>1.910378</td>\n",
       "      <td>0</td>\n",
       "      <td>0.866045</td>\n",
       "      <td>1.673584</td>\n",
       "      <td>2</td>\n",
       "      <td>3</td>\n",
       "      <td>Insufficient_Weight</td>\n",
       "    </tr>\n",
       "    <tr>\n",
       "      <th>3</th>\n",
       "      <td>0</td>\n",
       "      <td>20.952737</td>\n",
       "      <td>1.710730</td>\n",
       "      <td>131.274851</td>\n",
       "      <td>1</td>\n",
       "      <td>1</td>\n",
       "      <td>3.000000</td>\n",
       "      <td>3.000000</td>\n",
       "      <td>2</td>\n",
       "      <td>0</td>\n",
       "      <td>1.674061</td>\n",
       "      <td>0</td>\n",
       "      <td>1.467863</td>\n",
       "      <td>0.780199</td>\n",
       "      <td>1</td>\n",
       "      <td>3</td>\n",
       "      <td>Obesity_Type_III</td>\n",
       "    </tr>\n",
       "    <tr>\n",
       "      <th>4</th>\n",
       "      <td>1</td>\n",
       "      <td>31.641081</td>\n",
       "      <td>1.914186</td>\n",
       "      <td>93.798055</td>\n",
       "      <td>1</td>\n",
       "      <td>1</td>\n",
       "      <td>2.679664</td>\n",
       "      <td>1.971472</td>\n",
       "      <td>2</td>\n",
       "      <td>0</td>\n",
       "      <td>1.979848</td>\n",
       "      <td>0</td>\n",
       "      <td>1.967973</td>\n",
       "      <td>0.931721</td>\n",
       "      <td>1</td>\n",
       "      <td>3</td>\n",
       "      <td>Overweight_Level_II</td>\n",
       "    </tr>\n",
       "  </tbody>\n",
       "</table>\n",
       "</div>"
      ],
      "text/plain": [
       "    Gender        Age    Height      Weight  family_history_with_overweight  \\\n",
       "id                                                                            \n",
       "0        1  24.443011  1.699998   81.669950                               1   \n",
       "1        0  18.000000  1.560000   57.000000                               1   \n",
       "2        0  18.000000  1.711460   50.165754                               1   \n",
       "3        0  20.952737  1.710730  131.274851                               1   \n",
       "4        1  31.641081  1.914186   93.798055                               1   \n",
       "\n",
       "    FAVC      FCVC       NCP  CAEC  SMOKE      CH2O  SCC       FAF       TUE  \\\n",
       "id                                                                             \n",
       "0      1  2.000000  2.983297     2      0  2.763573    0  0.000000  0.976473   \n",
       "1      1  2.000000  3.000000     1      0  2.000000    0  1.000000  1.000000   \n",
       "2      1  1.880534  1.411685     2      0  1.910378    0  0.866045  1.673584   \n",
       "3      1  3.000000  3.000000     2      0  1.674061    0  1.467863  0.780199   \n",
       "4      1  2.679664  1.971472     2      0  1.979848    0  1.967973  0.931721   \n",
       "\n",
       "    CALC  MTRANS           NObeyesdad  \n",
       "id                                     \n",
       "0      1       3  Overweight_Level_II  \n",
       "1      2       0        Normal_Weight  \n",
       "2      2       3  Insufficient_Weight  \n",
       "3      1       3     Obesity_Type_III  \n",
       "4      1       3  Overweight_Level_II  "
      ]
     },
     "execution_count": 27,
     "metadata": {},
     "output_type": "execute_result"
    }
   ],
   "source": [
    "df_train.head(5)"
   ]
  },
  {
   "cell_type": "markdown",
   "id": "ccb8b6b4",
   "metadata": {
    "papermill": {
     "duration": 0.026348,
     "end_time": "2024-02-07T15:39:06.870698",
     "exception": false,
     "start_time": "2024-02-07T15:39:06.844350",
     "status": "completed"
    },
    "tags": []
   },
   "source": [
    "Label encoding"
   ]
  },
  {
   "cell_type": "code",
   "execution_count": 28,
   "id": "72b31a8c",
   "metadata": {
    "_kg_hide-input": true,
    "execution": {
     "iopub.execute_input": "2024-02-07T15:39:06.926386Z",
     "iopub.status.busy": "2024-02-07T15:39:06.925544Z",
     "iopub.status.idle": "2024-02-07T15:39:06.944548Z",
     "shell.execute_reply": "2024-02-07T15:39:06.943669Z"
    },
    "papermill": {
     "duration": 0.049937,
     "end_time": "2024-02-07T15:39:06.947216",
     "exception": false,
     "start_time": "2024-02-07T15:39:06.897279",
     "status": "completed"
    },
    "tags": []
   },
   "outputs": [],
   "source": [
    "NObeyesdad_encoder = LabelEncoder()\n",
    "NObeyesdad_encoder.fit(df_train[\"NObeyesdad\"])\n",
    "NObeyesdad_category_train = NObeyesdad_encoder.transform(df_train[\"NObeyesdad\"])\n",
    "df_train[\"NObeyesdad\"] = NObeyesdad_category_train"
   ]
  },
  {
   "cell_type": "code",
   "execution_count": 29,
   "id": "5ee1ea5c",
   "metadata": {
    "execution": {
     "iopub.execute_input": "2024-02-07T15:39:07.002593Z",
     "iopub.status.busy": "2024-02-07T15:39:07.002151Z",
     "iopub.status.idle": "2024-02-07T15:39:07.023252Z",
     "shell.execute_reply": "2024-02-07T15:39:07.022008Z"
    },
    "papermill": {
     "duration": 0.05226,
     "end_time": "2024-02-07T15:39:07.026287",
     "exception": false,
     "start_time": "2024-02-07T15:39:06.974027",
     "status": "completed"
    },
    "tags": []
   },
   "outputs": [
    {
     "data": {
      "text/html": [
       "<div>\n",
       "<style scoped>\n",
       "    .dataframe tbody tr th:only-of-type {\n",
       "        vertical-align: middle;\n",
       "    }\n",
       "\n",
       "    .dataframe tbody tr th {\n",
       "        vertical-align: top;\n",
       "    }\n",
       "\n",
       "    .dataframe thead th {\n",
       "        text-align: right;\n",
       "    }\n",
       "</style>\n",
       "<table border=\"1\" class=\"dataframe\">\n",
       "  <thead>\n",
       "    <tr style=\"text-align: right;\">\n",
       "      <th></th>\n",
       "      <th>Gender</th>\n",
       "      <th>Age</th>\n",
       "      <th>Height</th>\n",
       "      <th>Weight</th>\n",
       "      <th>family_history_with_overweight</th>\n",
       "      <th>FAVC</th>\n",
       "      <th>FCVC</th>\n",
       "      <th>NCP</th>\n",
       "      <th>CAEC</th>\n",
       "      <th>SMOKE</th>\n",
       "      <th>CH2O</th>\n",
       "      <th>SCC</th>\n",
       "      <th>FAF</th>\n",
       "      <th>TUE</th>\n",
       "      <th>CALC</th>\n",
       "      <th>MTRANS</th>\n",
       "      <th>NObeyesdad</th>\n",
       "    </tr>\n",
       "    <tr>\n",
       "      <th>id</th>\n",
       "      <th></th>\n",
       "      <th></th>\n",
       "      <th></th>\n",
       "      <th></th>\n",
       "      <th></th>\n",
       "      <th></th>\n",
       "      <th></th>\n",
       "      <th></th>\n",
       "      <th></th>\n",
       "      <th></th>\n",
       "      <th></th>\n",
       "      <th></th>\n",
       "      <th></th>\n",
       "      <th></th>\n",
       "      <th></th>\n",
       "      <th></th>\n",
       "      <th></th>\n",
       "    </tr>\n",
       "  </thead>\n",
       "  <tbody>\n",
       "    <tr>\n",
       "      <th>0</th>\n",
       "      <td>1</td>\n",
       "      <td>24.443011</td>\n",
       "      <td>1.699998</td>\n",
       "      <td>81.669950</td>\n",
       "      <td>1</td>\n",
       "      <td>1</td>\n",
       "      <td>2.000000</td>\n",
       "      <td>2.983297</td>\n",
       "      <td>2</td>\n",
       "      <td>0</td>\n",
       "      <td>2.763573</td>\n",
       "      <td>0</td>\n",
       "      <td>0.000000</td>\n",
       "      <td>0.976473</td>\n",
       "      <td>1</td>\n",
       "      <td>3</td>\n",
       "      <td>6</td>\n",
       "    </tr>\n",
       "    <tr>\n",
       "      <th>1</th>\n",
       "      <td>0</td>\n",
       "      <td>18.000000</td>\n",
       "      <td>1.560000</td>\n",
       "      <td>57.000000</td>\n",
       "      <td>1</td>\n",
       "      <td>1</td>\n",
       "      <td>2.000000</td>\n",
       "      <td>3.000000</td>\n",
       "      <td>1</td>\n",
       "      <td>0</td>\n",
       "      <td>2.000000</td>\n",
       "      <td>0</td>\n",
       "      <td>1.000000</td>\n",
       "      <td>1.000000</td>\n",
       "      <td>2</td>\n",
       "      <td>0</td>\n",
       "      <td>1</td>\n",
       "    </tr>\n",
       "    <tr>\n",
       "      <th>2</th>\n",
       "      <td>0</td>\n",
       "      <td>18.000000</td>\n",
       "      <td>1.711460</td>\n",
       "      <td>50.165754</td>\n",
       "      <td>1</td>\n",
       "      <td>1</td>\n",
       "      <td>1.880534</td>\n",
       "      <td>1.411685</td>\n",
       "      <td>2</td>\n",
       "      <td>0</td>\n",
       "      <td>1.910378</td>\n",
       "      <td>0</td>\n",
       "      <td>0.866045</td>\n",
       "      <td>1.673584</td>\n",
       "      <td>2</td>\n",
       "      <td>3</td>\n",
       "      <td>0</td>\n",
       "    </tr>\n",
       "    <tr>\n",
       "      <th>3</th>\n",
       "      <td>0</td>\n",
       "      <td>20.952737</td>\n",
       "      <td>1.710730</td>\n",
       "      <td>131.274851</td>\n",
       "      <td>1</td>\n",
       "      <td>1</td>\n",
       "      <td>3.000000</td>\n",
       "      <td>3.000000</td>\n",
       "      <td>2</td>\n",
       "      <td>0</td>\n",
       "      <td>1.674061</td>\n",
       "      <td>0</td>\n",
       "      <td>1.467863</td>\n",
       "      <td>0.780199</td>\n",
       "      <td>1</td>\n",
       "      <td>3</td>\n",
       "      <td>4</td>\n",
       "    </tr>\n",
       "    <tr>\n",
       "      <th>4</th>\n",
       "      <td>1</td>\n",
       "      <td>31.641081</td>\n",
       "      <td>1.914186</td>\n",
       "      <td>93.798055</td>\n",
       "      <td>1</td>\n",
       "      <td>1</td>\n",
       "      <td>2.679664</td>\n",
       "      <td>1.971472</td>\n",
       "      <td>2</td>\n",
       "      <td>0</td>\n",
       "      <td>1.979848</td>\n",
       "      <td>0</td>\n",
       "      <td>1.967973</td>\n",
       "      <td>0.931721</td>\n",
       "      <td>1</td>\n",
       "      <td>3</td>\n",
       "      <td>6</td>\n",
       "    </tr>\n",
       "  </tbody>\n",
       "</table>\n",
       "</div>"
      ],
      "text/plain": [
       "    Gender        Age    Height      Weight  family_history_with_overweight  \\\n",
       "id                                                                            \n",
       "0        1  24.443011  1.699998   81.669950                               1   \n",
       "1        0  18.000000  1.560000   57.000000                               1   \n",
       "2        0  18.000000  1.711460   50.165754                               1   \n",
       "3        0  20.952737  1.710730  131.274851                               1   \n",
       "4        1  31.641081  1.914186   93.798055                               1   \n",
       "\n",
       "    FAVC      FCVC       NCP  CAEC  SMOKE      CH2O  SCC       FAF       TUE  \\\n",
       "id                                                                             \n",
       "0      1  2.000000  2.983297     2      0  2.763573    0  0.000000  0.976473   \n",
       "1      1  2.000000  3.000000     1      0  2.000000    0  1.000000  1.000000   \n",
       "2      1  1.880534  1.411685     2      0  1.910378    0  0.866045  1.673584   \n",
       "3      1  3.000000  3.000000     2      0  1.674061    0  1.467863  0.780199   \n",
       "4      1  2.679664  1.971472     2      0  1.979848    0  1.967973  0.931721   \n",
       "\n",
       "    CALC  MTRANS  NObeyesdad  \n",
       "id                            \n",
       "0      1       3           6  \n",
       "1      2       0           1  \n",
       "2      2       3           0  \n",
       "3      1       3           4  \n",
       "4      1       3           6  "
      ]
     },
     "execution_count": 29,
     "metadata": {},
     "output_type": "execute_result"
    }
   ],
   "source": [
    "df_train.head(5)"
   ]
  },
  {
   "cell_type": "code",
   "execution_count": 30,
   "id": "979add31",
   "metadata": {
    "execution": {
     "iopub.execute_input": "2024-02-07T15:39:07.082264Z",
     "iopub.status.busy": "2024-02-07T15:39:07.081436Z",
     "iopub.status.idle": "2024-02-07T15:39:07.101297Z",
     "shell.execute_reply": "2024-02-07T15:39:07.100072Z"
    },
    "papermill": {
     "duration": 0.051012,
     "end_time": "2024-02-07T15:39:07.104205",
     "exception": false,
     "start_time": "2024-02-07T15:39:07.053193",
     "status": "completed"
    },
    "tags": []
   },
   "outputs": [
    {
     "data": {
      "text/html": [
       "<div>\n",
       "<style scoped>\n",
       "    .dataframe tbody tr th:only-of-type {\n",
       "        vertical-align: middle;\n",
       "    }\n",
       "\n",
       "    .dataframe tbody tr th {\n",
       "        vertical-align: top;\n",
       "    }\n",
       "\n",
       "    .dataframe thead th {\n",
       "        text-align: right;\n",
       "    }\n",
       "</style>\n",
       "<table border=\"1\" class=\"dataframe\">\n",
       "  <thead>\n",
       "    <tr style=\"text-align: right;\">\n",
       "      <th></th>\n",
       "      <th>Gender</th>\n",
       "      <th>Age</th>\n",
       "      <th>Height</th>\n",
       "      <th>Weight</th>\n",
       "      <th>family_history_with_overweight</th>\n",
       "      <th>FAVC</th>\n",
       "      <th>FCVC</th>\n",
       "      <th>NCP</th>\n",
       "      <th>CAEC</th>\n",
       "      <th>SMOKE</th>\n",
       "      <th>CH2O</th>\n",
       "      <th>SCC</th>\n",
       "      <th>FAF</th>\n",
       "      <th>TUE</th>\n",
       "      <th>CALC</th>\n",
       "      <th>MTRANS</th>\n",
       "    </tr>\n",
       "    <tr>\n",
       "      <th>id</th>\n",
       "      <th></th>\n",
       "      <th></th>\n",
       "      <th></th>\n",
       "      <th></th>\n",
       "      <th></th>\n",
       "      <th></th>\n",
       "      <th></th>\n",
       "      <th></th>\n",
       "      <th></th>\n",
       "      <th></th>\n",
       "      <th></th>\n",
       "      <th></th>\n",
       "      <th></th>\n",
       "      <th></th>\n",
       "      <th></th>\n",
       "      <th></th>\n",
       "    </tr>\n",
       "  </thead>\n",
       "  <tbody>\n",
       "    <tr>\n",
       "      <th>20758</th>\n",
       "      <td>1</td>\n",
       "      <td>26.899886</td>\n",
       "      <td>1.848294</td>\n",
       "      <td>120.644178</td>\n",
       "      <td>1</td>\n",
       "      <td>1</td>\n",
       "      <td>2.938616</td>\n",
       "      <td>3.000000</td>\n",
       "      <td>2</td>\n",
       "      <td>0</td>\n",
       "      <td>2.825629</td>\n",
       "      <td>0</td>\n",
       "      <td>0.855400</td>\n",
       "      <td>0.000000</td>\n",
       "      <td>1</td>\n",
       "      <td>3</td>\n",
       "    </tr>\n",
       "    <tr>\n",
       "      <th>20759</th>\n",
       "      <td>0</td>\n",
       "      <td>21.000000</td>\n",
       "      <td>1.600000</td>\n",
       "      <td>66.000000</td>\n",
       "      <td>1</td>\n",
       "      <td>1</td>\n",
       "      <td>2.000000</td>\n",
       "      <td>1.000000</td>\n",
       "      <td>2</td>\n",
       "      <td>0</td>\n",
       "      <td>3.000000</td>\n",
       "      <td>0</td>\n",
       "      <td>1.000000</td>\n",
       "      <td>0.000000</td>\n",
       "      <td>1</td>\n",
       "      <td>3</td>\n",
       "    </tr>\n",
       "    <tr>\n",
       "      <th>20760</th>\n",
       "      <td>0</td>\n",
       "      <td>26.000000</td>\n",
       "      <td>1.643355</td>\n",
       "      <td>111.600553</td>\n",
       "      <td>1</td>\n",
       "      <td>1</td>\n",
       "      <td>3.000000</td>\n",
       "      <td>3.000000</td>\n",
       "      <td>2</td>\n",
       "      <td>0</td>\n",
       "      <td>2.621877</td>\n",
       "      <td>0</td>\n",
       "      <td>0.000000</td>\n",
       "      <td>0.250502</td>\n",
       "      <td>1</td>\n",
       "      <td>3</td>\n",
       "    </tr>\n",
       "    <tr>\n",
       "      <th>20761</th>\n",
       "      <td>1</td>\n",
       "      <td>20.979254</td>\n",
       "      <td>1.553127</td>\n",
       "      <td>103.669116</td>\n",
       "      <td>1</td>\n",
       "      <td>1</td>\n",
       "      <td>2.000000</td>\n",
       "      <td>2.977909</td>\n",
       "      <td>2</td>\n",
       "      <td>0</td>\n",
       "      <td>2.786417</td>\n",
       "      <td>0</td>\n",
       "      <td>0.094851</td>\n",
       "      <td>0.000000</td>\n",
       "      <td>1</td>\n",
       "      <td>3</td>\n",
       "    </tr>\n",
       "    <tr>\n",
       "      <th>20762</th>\n",
       "      <td>0</td>\n",
       "      <td>26.000000</td>\n",
       "      <td>1.627396</td>\n",
       "      <td>104.835346</td>\n",
       "      <td>1</td>\n",
       "      <td>1</td>\n",
       "      <td>3.000000</td>\n",
       "      <td>3.000000</td>\n",
       "      <td>2</td>\n",
       "      <td>0</td>\n",
       "      <td>2.653531</td>\n",
       "      <td>0</td>\n",
       "      <td>0.000000</td>\n",
       "      <td>0.741069</td>\n",
       "      <td>1</td>\n",
       "      <td>3</td>\n",
       "    </tr>\n",
       "  </tbody>\n",
       "</table>\n",
       "</div>"
      ],
      "text/plain": [
       "       Gender        Age    Height      Weight  \\\n",
       "id                                               \n",
       "20758       1  26.899886  1.848294  120.644178   \n",
       "20759       0  21.000000  1.600000   66.000000   \n",
       "20760       0  26.000000  1.643355  111.600553   \n",
       "20761       1  20.979254  1.553127  103.669116   \n",
       "20762       0  26.000000  1.627396  104.835346   \n",
       "\n",
       "       family_history_with_overweight  FAVC      FCVC       NCP  CAEC  SMOKE  \\\n",
       "id                                                                             \n",
       "20758                               1     1  2.938616  3.000000     2      0   \n",
       "20759                               1     1  2.000000  1.000000     2      0   \n",
       "20760                               1     1  3.000000  3.000000     2      0   \n",
       "20761                               1     1  2.000000  2.977909     2      0   \n",
       "20762                               1     1  3.000000  3.000000     2      0   \n",
       "\n",
       "           CH2O  SCC       FAF       TUE  CALC  MTRANS  \n",
       "id                                                      \n",
       "20758  2.825629    0  0.855400  0.000000     1       3  \n",
       "20759  3.000000    0  1.000000  0.000000     1       3  \n",
       "20760  2.621877    0  0.000000  0.250502     1       3  \n",
       "20761  2.786417    0  0.094851  0.000000     1       3  \n",
       "20762  2.653531    0  0.000000  0.741069     1       3  "
      ]
     },
     "execution_count": 30,
     "metadata": {},
     "output_type": "execute_result"
    }
   ],
   "source": [
    "df_test.head(5)"
   ]
  },
  {
   "cell_type": "markdown",
   "id": "b28cc484",
   "metadata": {
    "papermill": {
     "duration": 0.027011,
     "end_time": "2024-02-07T15:39:07.158924",
     "exception": false,
     "start_time": "2024-02-07T15:39:07.131913",
     "status": "completed"
    },
    "tags": []
   },
   "source": [
    "## Feature engineering"
   ]
  },
  {
   "cell_type": "code",
   "execution_count": 31,
   "id": "7bfee214",
   "metadata": {
    "execution": {
     "iopub.execute_input": "2024-02-07T15:39:07.218024Z",
     "iopub.status.busy": "2024-02-07T15:39:07.217638Z",
     "iopub.status.idle": "2024-02-07T15:39:07.238317Z",
     "shell.execute_reply": "2024-02-07T15:39:07.237446Z"
    },
    "papermill": {
     "duration": 0.052718,
     "end_time": "2024-02-07T15:39:07.240953",
     "exception": false,
     "start_time": "2024-02-07T15:39:07.188235",
     "status": "completed"
    },
    "tags": []
   },
   "outputs": [],
   "source": [
    "# BMI = Weight / height*height\n",
    "df_train[\"BMI\"] = df_train[\"Weight\"] / (df_train[\"Height\"] * df_train[\"Height\"])\n",
    "df_test[\"BMI\"] = df_test[\"Weight\"] / (df_test[\"Height\"] * df_test[\"Height\"])\n",
    "\n",
    "# WIR\n",
    "df_train[\"WIR\"] = df_train[\"Weight\"] / df_train[\"CH2O\"]\n",
    "df_test[\"WIR\"] = df_test[\"Weight\"] / df_test[\"CH2O\"]\n",
    "\n",
    "# PAL\n",
    "df_train[\"PAL\"] = df_train[\"TUE\"] - df_train[\"FAF\"]\n",
    "df_test[\"PAL\"] = df_test[\"TUE\"] - df_test[\"FAF\"]\n",
    "\n",
    "# MH\n",
    "df_train[\"MH\"] = df_train[\"FCVC\"] + df_train[\"NCP\"]\n",
    "df_test[\"MH\"] = df_test[\"FCVC\"] + df_test[\"NCP\"]\n",
    "\n",
    "# HNH\n",
    "df_train[\"HNH\"] = df_train[\"FCVC\"] + df_train[\"FAVC\"]\n",
    "df_test[\"HNH\"] = df_test[\"FCVC\"] + df_test[\"FAVC\"]\n",
    "\n",
    "# TUS\n",
    "df_train[\"TUS\"] = df_train[\"Age\"] * df_train[\"TUE\"]\n",
    "df_test[\"TUS\"] = df_test[\"Age\"] * df_test[\"TUE\"]\n",
    "\n",
    "# drop height and weight\n",
    "# df_train.drop([\"Height\", \"Weight\"], axis=1, inplace=True)\n",
    "# df_test.drop([\"Height\", \"Weight\"], axis=1, inplace=True)"
   ]
  },
  {
   "cell_type": "code",
   "execution_count": 32,
   "id": "5b2dc4eb",
   "metadata": {
    "execution": {
     "iopub.execute_input": "2024-02-07T15:39:07.297002Z",
     "iopub.status.busy": "2024-02-07T15:39:07.296547Z",
     "iopub.status.idle": "2024-02-07T15:39:07.327368Z",
     "shell.execute_reply": "2024-02-07T15:39:07.326168Z"
    },
    "papermill": {
     "duration": 0.062384,
     "end_time": "2024-02-07T15:39:07.330204",
     "exception": false,
     "start_time": "2024-02-07T15:39:07.267820",
     "status": "completed"
    },
    "tags": []
   },
   "outputs": [
    {
     "data": {
      "text/html": [
       "<div>\n",
       "<style scoped>\n",
       "    .dataframe tbody tr th:only-of-type {\n",
       "        vertical-align: middle;\n",
       "    }\n",
       "\n",
       "    .dataframe tbody tr th {\n",
       "        vertical-align: top;\n",
       "    }\n",
       "\n",
       "    .dataframe thead th {\n",
       "        text-align: right;\n",
       "    }\n",
       "</style>\n",
       "<table border=\"1\" class=\"dataframe\">\n",
       "  <thead>\n",
       "    <tr style=\"text-align: right;\">\n",
       "      <th></th>\n",
       "      <th>Gender</th>\n",
       "      <th>Age</th>\n",
       "      <th>Height</th>\n",
       "      <th>Weight</th>\n",
       "      <th>family_history_with_overweight</th>\n",
       "      <th>FAVC</th>\n",
       "      <th>FCVC</th>\n",
       "      <th>NCP</th>\n",
       "      <th>CAEC</th>\n",
       "      <th>SMOKE</th>\n",
       "      <th>...</th>\n",
       "      <th>TUE</th>\n",
       "      <th>CALC</th>\n",
       "      <th>MTRANS</th>\n",
       "      <th>NObeyesdad</th>\n",
       "      <th>BMI</th>\n",
       "      <th>WIR</th>\n",
       "      <th>PAL</th>\n",
       "      <th>MH</th>\n",
       "      <th>HNH</th>\n",
       "      <th>TUS</th>\n",
       "    </tr>\n",
       "    <tr>\n",
       "      <th>id</th>\n",
       "      <th></th>\n",
       "      <th></th>\n",
       "      <th></th>\n",
       "      <th></th>\n",
       "      <th></th>\n",
       "      <th></th>\n",
       "      <th></th>\n",
       "      <th></th>\n",
       "      <th></th>\n",
       "      <th></th>\n",
       "      <th></th>\n",
       "      <th></th>\n",
       "      <th></th>\n",
       "      <th></th>\n",
       "      <th></th>\n",
       "      <th></th>\n",
       "      <th></th>\n",
       "      <th></th>\n",
       "      <th></th>\n",
       "      <th></th>\n",
       "      <th></th>\n",
       "    </tr>\n",
       "  </thead>\n",
       "  <tbody>\n",
       "    <tr>\n",
       "      <th>0</th>\n",
       "      <td>1</td>\n",
       "      <td>24.443011</td>\n",
       "      <td>1.699998</td>\n",
       "      <td>81.669950</td>\n",
       "      <td>1</td>\n",
       "      <td>1</td>\n",
       "      <td>2.000000</td>\n",
       "      <td>2.983297</td>\n",
       "      <td>2</td>\n",
       "      <td>0</td>\n",
       "      <td>...</td>\n",
       "      <td>0.976473</td>\n",
       "      <td>1</td>\n",
       "      <td>3</td>\n",
       "      <td>6</td>\n",
       "      <td>28.259565</td>\n",
       "      <td>29.552304</td>\n",
       "      <td>0.976473</td>\n",
       "      <td>4.983297</td>\n",
       "      <td>3.000000</td>\n",
       "      <td>23.867940</td>\n",
       "    </tr>\n",
       "    <tr>\n",
       "      <th>1</th>\n",
       "      <td>0</td>\n",
       "      <td>18.000000</td>\n",
       "      <td>1.560000</td>\n",
       "      <td>57.000000</td>\n",
       "      <td>1</td>\n",
       "      <td>1</td>\n",
       "      <td>2.000000</td>\n",
       "      <td>3.000000</td>\n",
       "      <td>1</td>\n",
       "      <td>0</td>\n",
       "      <td>...</td>\n",
       "      <td>1.000000</td>\n",
       "      <td>2</td>\n",
       "      <td>0</td>\n",
       "      <td>1</td>\n",
       "      <td>23.422091</td>\n",
       "      <td>28.500000</td>\n",
       "      <td>0.000000</td>\n",
       "      <td>5.000000</td>\n",
       "      <td>3.000000</td>\n",
       "      <td>18.000000</td>\n",
       "    </tr>\n",
       "    <tr>\n",
       "      <th>2</th>\n",
       "      <td>0</td>\n",
       "      <td>18.000000</td>\n",
       "      <td>1.711460</td>\n",
       "      <td>50.165754</td>\n",
       "      <td>1</td>\n",
       "      <td>1</td>\n",
       "      <td>1.880534</td>\n",
       "      <td>1.411685</td>\n",
       "      <td>2</td>\n",
       "      <td>0</td>\n",
       "      <td>...</td>\n",
       "      <td>1.673584</td>\n",
       "      <td>2</td>\n",
       "      <td>3</td>\n",
       "      <td>0</td>\n",
       "      <td>17.126706</td>\n",
       "      <td>26.259596</td>\n",
       "      <td>0.807539</td>\n",
       "      <td>3.292219</td>\n",
       "      <td>2.880534</td>\n",
       "      <td>30.124512</td>\n",
       "    </tr>\n",
       "    <tr>\n",
       "      <th>3</th>\n",
       "      <td>0</td>\n",
       "      <td>20.952737</td>\n",
       "      <td>1.710730</td>\n",
       "      <td>131.274851</td>\n",
       "      <td>1</td>\n",
       "      <td>1</td>\n",
       "      <td>3.000000</td>\n",
       "      <td>3.000000</td>\n",
       "      <td>2</td>\n",
       "      <td>0</td>\n",
       "      <td>...</td>\n",
       "      <td>0.780199</td>\n",
       "      <td>1</td>\n",
       "      <td>3</td>\n",
       "      <td>4</td>\n",
       "      <td>44.855798</td>\n",
       "      <td>78.417006</td>\n",
       "      <td>-0.687664</td>\n",
       "      <td>6.000000</td>\n",
       "      <td>4.000000</td>\n",
       "      <td>16.347304</td>\n",
       "    </tr>\n",
       "    <tr>\n",
       "      <th>4</th>\n",
       "      <td>1</td>\n",
       "      <td>31.641081</td>\n",
       "      <td>1.914186</td>\n",
       "      <td>93.798055</td>\n",
       "      <td>1</td>\n",
       "      <td>1</td>\n",
       "      <td>2.679664</td>\n",
       "      <td>1.971472</td>\n",
       "      <td>2</td>\n",
       "      <td>0</td>\n",
       "      <td>...</td>\n",
       "      <td>0.931721</td>\n",
       "      <td>1</td>\n",
       "      <td>3</td>\n",
       "      <td>6</td>\n",
       "      <td>25.599151</td>\n",
       "      <td>47.376392</td>\n",
       "      <td>-1.036252</td>\n",
       "      <td>4.651136</td>\n",
       "      <td>3.679664</td>\n",
       "      <td>29.480660</td>\n",
       "    </tr>\n",
       "  </tbody>\n",
       "</table>\n",
       "<p>5 rows × 23 columns</p>\n",
       "</div>"
      ],
      "text/plain": [
       "    Gender        Age    Height      Weight  family_history_with_overweight  \\\n",
       "id                                                                            \n",
       "0        1  24.443011  1.699998   81.669950                               1   \n",
       "1        0  18.000000  1.560000   57.000000                               1   \n",
       "2        0  18.000000  1.711460   50.165754                               1   \n",
       "3        0  20.952737  1.710730  131.274851                               1   \n",
       "4        1  31.641081  1.914186   93.798055                               1   \n",
       "\n",
       "    FAVC      FCVC       NCP  CAEC  SMOKE  ...       TUE  CALC  MTRANS  \\\n",
       "id                                         ...                           \n",
       "0      1  2.000000  2.983297     2      0  ...  0.976473     1       3   \n",
       "1      1  2.000000  3.000000     1      0  ...  1.000000     2       0   \n",
       "2      1  1.880534  1.411685     2      0  ...  1.673584     2       3   \n",
       "3      1  3.000000  3.000000     2      0  ...  0.780199     1       3   \n",
       "4      1  2.679664  1.971472     2      0  ...  0.931721     1       3   \n",
       "\n",
       "    NObeyesdad        BMI        WIR       PAL        MH       HNH        TUS  \n",
       "id                                                                             \n",
       "0            6  28.259565  29.552304  0.976473  4.983297  3.000000  23.867940  \n",
       "1            1  23.422091  28.500000  0.000000  5.000000  3.000000  18.000000  \n",
       "2            0  17.126706  26.259596  0.807539  3.292219  2.880534  30.124512  \n",
       "3            4  44.855798  78.417006 -0.687664  6.000000  4.000000  16.347304  \n",
       "4            6  25.599151  47.376392 -1.036252  4.651136  3.679664  29.480660  \n",
       "\n",
       "[5 rows x 23 columns]"
      ]
     },
     "execution_count": 32,
     "metadata": {},
     "output_type": "execute_result"
    }
   ],
   "source": [
    "df_train.head(5)"
   ]
  },
  {
   "cell_type": "code",
   "execution_count": 33,
   "id": "d5760227",
   "metadata": {
    "execution": {
     "iopub.execute_input": "2024-02-07T15:39:07.386880Z",
     "iopub.status.busy": "2024-02-07T15:39:07.386444Z",
     "iopub.status.idle": "2024-02-07T15:39:07.413771Z",
     "shell.execute_reply": "2024-02-07T15:39:07.412558Z"
    },
    "papermill": {
     "duration": 0.058651,
     "end_time": "2024-02-07T15:39:07.416420",
     "exception": false,
     "start_time": "2024-02-07T15:39:07.357769",
     "status": "completed"
    },
    "tags": []
   },
   "outputs": [
    {
     "data": {
      "text/html": [
       "<div>\n",
       "<style scoped>\n",
       "    .dataframe tbody tr th:only-of-type {\n",
       "        vertical-align: middle;\n",
       "    }\n",
       "\n",
       "    .dataframe tbody tr th {\n",
       "        vertical-align: top;\n",
       "    }\n",
       "\n",
       "    .dataframe thead th {\n",
       "        text-align: right;\n",
       "    }\n",
       "</style>\n",
       "<table border=\"1\" class=\"dataframe\">\n",
       "  <thead>\n",
       "    <tr style=\"text-align: right;\">\n",
       "      <th></th>\n",
       "      <th>Gender</th>\n",
       "      <th>Age</th>\n",
       "      <th>Height</th>\n",
       "      <th>Weight</th>\n",
       "      <th>family_history_with_overweight</th>\n",
       "      <th>FAVC</th>\n",
       "      <th>FCVC</th>\n",
       "      <th>NCP</th>\n",
       "      <th>CAEC</th>\n",
       "      <th>SMOKE</th>\n",
       "      <th>...</th>\n",
       "      <th>FAF</th>\n",
       "      <th>TUE</th>\n",
       "      <th>CALC</th>\n",
       "      <th>MTRANS</th>\n",
       "      <th>BMI</th>\n",
       "      <th>WIR</th>\n",
       "      <th>PAL</th>\n",
       "      <th>MH</th>\n",
       "      <th>HNH</th>\n",
       "      <th>TUS</th>\n",
       "    </tr>\n",
       "    <tr>\n",
       "      <th>id</th>\n",
       "      <th></th>\n",
       "      <th></th>\n",
       "      <th></th>\n",
       "      <th></th>\n",
       "      <th></th>\n",
       "      <th></th>\n",
       "      <th></th>\n",
       "      <th></th>\n",
       "      <th></th>\n",
       "      <th></th>\n",
       "      <th></th>\n",
       "      <th></th>\n",
       "      <th></th>\n",
       "      <th></th>\n",
       "      <th></th>\n",
       "      <th></th>\n",
       "      <th></th>\n",
       "      <th></th>\n",
       "      <th></th>\n",
       "      <th></th>\n",
       "      <th></th>\n",
       "    </tr>\n",
       "  </thead>\n",
       "  <tbody>\n",
       "    <tr>\n",
       "      <th>20758</th>\n",
       "      <td>1</td>\n",
       "      <td>26.899886</td>\n",
       "      <td>1.848294</td>\n",
       "      <td>120.644178</td>\n",
       "      <td>1</td>\n",
       "      <td>1</td>\n",
       "      <td>2.938616</td>\n",
       "      <td>3.000000</td>\n",
       "      <td>2</td>\n",
       "      <td>0</td>\n",
       "      <td>...</td>\n",
       "      <td>0.855400</td>\n",
       "      <td>0.000000</td>\n",
       "      <td>1</td>\n",
       "      <td>3</td>\n",
       "      <td>35.315411</td>\n",
       "      <td>42.696397</td>\n",
       "      <td>-0.855400</td>\n",
       "      <td>5.938616</td>\n",
       "      <td>3.938616</td>\n",
       "      <td>0.000000</td>\n",
       "    </tr>\n",
       "    <tr>\n",
       "      <th>20759</th>\n",
       "      <td>0</td>\n",
       "      <td>21.000000</td>\n",
       "      <td>1.600000</td>\n",
       "      <td>66.000000</td>\n",
       "      <td>1</td>\n",
       "      <td>1</td>\n",
       "      <td>2.000000</td>\n",
       "      <td>1.000000</td>\n",
       "      <td>2</td>\n",
       "      <td>0</td>\n",
       "      <td>...</td>\n",
       "      <td>1.000000</td>\n",
       "      <td>0.000000</td>\n",
       "      <td>1</td>\n",
       "      <td>3</td>\n",
       "      <td>25.781250</td>\n",
       "      <td>22.000000</td>\n",
       "      <td>-1.000000</td>\n",
       "      <td>3.000000</td>\n",
       "      <td>3.000000</td>\n",
       "      <td>0.000000</td>\n",
       "    </tr>\n",
       "    <tr>\n",
       "      <th>20760</th>\n",
       "      <td>0</td>\n",
       "      <td>26.000000</td>\n",
       "      <td>1.643355</td>\n",
       "      <td>111.600553</td>\n",
       "      <td>1</td>\n",
       "      <td>1</td>\n",
       "      <td>3.000000</td>\n",
       "      <td>3.000000</td>\n",
       "      <td>2</td>\n",
       "      <td>0</td>\n",
       "      <td>...</td>\n",
       "      <td>0.000000</td>\n",
       "      <td>0.250502</td>\n",
       "      <td>1</td>\n",
       "      <td>3</td>\n",
       "      <td>41.324115</td>\n",
       "      <td>42.565137</td>\n",
       "      <td>0.250502</td>\n",
       "      <td>6.000000</td>\n",
       "      <td>4.000000</td>\n",
       "      <td>6.513052</td>\n",
       "    </tr>\n",
       "    <tr>\n",
       "      <th>20761</th>\n",
       "      <td>1</td>\n",
       "      <td>20.979254</td>\n",
       "      <td>1.553127</td>\n",
       "      <td>103.669116</td>\n",
       "      <td>1</td>\n",
       "      <td>1</td>\n",
       "      <td>2.000000</td>\n",
       "      <td>2.977909</td>\n",
       "      <td>2</td>\n",
       "      <td>0</td>\n",
       "      <td>...</td>\n",
       "      <td>0.094851</td>\n",
       "      <td>0.000000</td>\n",
       "      <td>1</td>\n",
       "      <td>3</td>\n",
       "      <td>42.976937</td>\n",
       "      <td>37.205169</td>\n",
       "      <td>-0.094851</td>\n",
       "      <td>4.977909</td>\n",
       "      <td>3.000000</td>\n",
       "      <td>0.000000</td>\n",
       "    </tr>\n",
       "    <tr>\n",
       "      <th>20762</th>\n",
       "      <td>0</td>\n",
       "      <td>26.000000</td>\n",
       "      <td>1.627396</td>\n",
       "      <td>104.835346</td>\n",
       "      <td>1</td>\n",
       "      <td>1</td>\n",
       "      <td>3.000000</td>\n",
       "      <td>3.000000</td>\n",
       "      <td>2</td>\n",
       "      <td>0</td>\n",
       "      <td>...</td>\n",
       "      <td>0.000000</td>\n",
       "      <td>0.741069</td>\n",
       "      <td>1</td>\n",
       "      <td>3</td>\n",
       "      <td>39.584143</td>\n",
       "      <td>39.507866</td>\n",
       "      <td>0.741069</td>\n",
       "      <td>6.000000</td>\n",
       "      <td>4.000000</td>\n",
       "      <td>19.267794</td>\n",
       "    </tr>\n",
       "  </tbody>\n",
       "</table>\n",
       "<p>5 rows × 22 columns</p>\n",
       "</div>"
      ],
      "text/plain": [
       "       Gender        Age    Height      Weight  \\\n",
       "id                                               \n",
       "20758       1  26.899886  1.848294  120.644178   \n",
       "20759       0  21.000000  1.600000   66.000000   \n",
       "20760       0  26.000000  1.643355  111.600553   \n",
       "20761       1  20.979254  1.553127  103.669116   \n",
       "20762       0  26.000000  1.627396  104.835346   \n",
       "\n",
       "       family_history_with_overweight  FAVC      FCVC       NCP  CAEC  SMOKE  \\\n",
       "id                                                                             \n",
       "20758                               1     1  2.938616  3.000000     2      0   \n",
       "20759                               1     1  2.000000  1.000000     2      0   \n",
       "20760                               1     1  3.000000  3.000000     2      0   \n",
       "20761                               1     1  2.000000  2.977909     2      0   \n",
       "20762                               1     1  3.000000  3.000000     2      0   \n",
       "\n",
       "       ...       FAF       TUE  CALC  MTRANS        BMI        WIR       PAL  \\\n",
       "id     ...                                                                     \n",
       "20758  ...  0.855400  0.000000     1       3  35.315411  42.696397 -0.855400   \n",
       "20759  ...  1.000000  0.000000     1       3  25.781250  22.000000 -1.000000   \n",
       "20760  ...  0.000000  0.250502     1       3  41.324115  42.565137  0.250502   \n",
       "20761  ...  0.094851  0.000000     1       3  42.976937  37.205169 -0.094851   \n",
       "20762  ...  0.000000  0.741069     1       3  39.584143  39.507866  0.741069   \n",
       "\n",
       "             MH       HNH        TUS  \n",
       "id                                    \n",
       "20758  5.938616  3.938616   0.000000  \n",
       "20759  3.000000  3.000000   0.000000  \n",
       "20760  6.000000  4.000000   6.513052  \n",
       "20761  4.977909  3.000000   0.000000  \n",
       "20762  6.000000  4.000000  19.267794  \n",
       "\n",
       "[5 rows x 22 columns]"
      ]
     },
     "execution_count": 33,
     "metadata": {},
     "output_type": "execute_result"
    }
   ],
   "source": [
    "df_test.head(5)"
   ]
  },
  {
   "cell_type": "markdown",
   "id": "c1197c0a",
   "metadata": {
    "papermill": {
     "duration": 0.028177,
     "end_time": "2024-02-07T15:39:07.472824",
     "exception": false,
     "start_time": "2024-02-07T15:39:07.444647",
     "status": "completed"
    },
    "tags": []
   },
   "source": [
    "## Data Visualization"
   ]
  },
  {
   "cell_type": "code",
   "execution_count": 34,
   "id": "a7f4a7f6",
   "metadata": {
    "execution": {
     "iopub.execute_input": "2024-02-07T15:39:07.531953Z",
     "iopub.status.busy": "2024-02-07T15:39:07.531216Z",
     "iopub.status.idle": "2024-02-07T15:39:07.535563Z",
     "shell.execute_reply": "2024-02-07T15:39:07.534592Z"
    },
    "papermill": {
     "duration": 0.03621,
     "end_time": "2024-02-07T15:39:07.537996",
     "exception": false,
     "start_time": "2024-02-07T15:39:07.501786",
     "status": "completed"
    },
    "tags": []
   },
   "outputs": [],
   "source": [
    "# sns.pairplot(df_train[[\"BMI\", \"Age\", \"NObeyesdad\"]], hue=\"NObeyesdad\", height=10)\n",
    "# plt.show()"
   ]
  },
  {
   "cell_type": "code",
   "execution_count": 35,
   "id": "b315145e",
   "metadata": {
    "execution": {
     "iopub.execute_input": "2024-02-07T15:39:07.596866Z",
     "iopub.status.busy": "2024-02-07T15:39:07.596061Z",
     "iopub.status.idle": "2024-02-07T15:39:07.601224Z",
     "shell.execute_reply": "2024-02-07T15:39:07.600093Z"
    },
    "papermill": {
     "duration": 0.036874,
     "end_time": "2024-02-07T15:39:07.603605",
     "exception": false,
     "start_time": "2024-02-07T15:39:07.566731",
     "status": "completed"
    },
    "tags": []
   },
   "outputs": [],
   "source": [
    "# sns.plot(df_train[[\"Gender\", \"NObeyesdad\"]], hue=\"NObeyesdad\")\n",
    "# plt.show()"
   ]
  },
  {
   "cell_type": "markdown",
   "id": "132164a9",
   "metadata": {
    "papermill": {
     "duration": 0.027432,
     "end_time": "2024-02-07T15:39:07.658727",
     "exception": false,
     "start_time": "2024-02-07T15:39:07.631295",
     "status": "completed"
    },
    "tags": []
   },
   "source": [
    "# Model overview"
   ]
  },
  {
   "cell_type": "code",
   "execution_count": 36,
   "id": "85bb3460",
   "metadata": {
    "execution": {
     "iopub.execute_input": "2024-02-07T15:39:07.716142Z",
     "iopub.status.busy": "2024-02-07T15:39:07.715374Z",
     "iopub.status.idle": "2024-02-07T15:39:10.686435Z",
     "shell.execute_reply": "2024-02-07T15:39:10.685178Z"
    },
    "papermill": {
     "duration": 3.003173,
     "end_time": "2024-02-07T15:39:10.689394",
     "exception": false,
     "start_time": "2024-02-07T15:39:07.686221",
     "status": "completed"
    },
    "tags": []
   },
   "outputs": [],
   "source": [
    "from lazypredict.Supervised import LazyClassifier\n",
    "from sklearn.model_selection import StratifiedKFold\n",
    "from sklearn.metrics import accuracy_score, classification_report"
   ]
  },
  {
   "cell_type": "code",
   "execution_count": 37,
   "id": "44604bc4",
   "metadata": {
    "execution": {
     "iopub.execute_input": "2024-02-07T15:39:10.748209Z",
     "iopub.status.busy": "2024-02-07T15:39:10.747761Z",
     "iopub.status.idle": "2024-02-07T15:39:10.752995Z",
     "shell.execute_reply": "2024-02-07T15:39:10.751774Z"
    },
    "papermill": {
     "duration": 0.037343,
     "end_time": "2024-02-07T15:39:10.755285",
     "exception": false,
     "start_time": "2024-02-07T15:39:10.717942",
     "status": "completed"
    },
    "tags": []
   },
   "outputs": [],
   "source": [
    "kf = StratifiedKFold(n_splits = 5, random_state=random_state, shuffle=True)"
   ]
  },
  {
   "cell_type": "code",
   "execution_count": 38,
   "id": "6f520b2c",
   "metadata": {
    "execution": {
     "iopub.execute_input": "2024-02-07T15:39:10.813147Z",
     "iopub.status.busy": "2024-02-07T15:39:10.812667Z",
     "iopub.status.idle": "2024-02-07T15:39:10.818359Z",
     "shell.execute_reply": "2024-02-07T15:39:10.817121Z"
    },
    "papermill": {
     "duration": 0.038054,
     "end_time": "2024-02-07T15:39:10.820956",
     "exception": false,
     "start_time": "2024-02-07T15:39:10.782902",
     "status": "completed"
    },
    "tags": []
   },
   "outputs": [],
   "source": [
    "clf = LazyClassifier(verbose=0,ignore_warnings=True, custom_metric=None)"
   ]
  },
  {
   "cell_type": "code",
   "execution_count": 39,
   "id": "c8fe47a3",
   "metadata": {
    "execution": {
     "iopub.execute_input": "2024-02-07T15:39:10.880866Z",
     "iopub.status.busy": "2024-02-07T15:39:10.880398Z",
     "iopub.status.idle": "2024-02-07T15:39:10.889299Z",
     "shell.execute_reply": "2024-02-07T15:39:10.887964Z"
    },
    "papermill": {
     "duration": 0.043111,
     "end_time": "2024-02-07T15:39:10.891788",
     "exception": false,
     "start_time": "2024-02-07T15:39:10.848677",
     "status": "completed"
    },
    "tags": []
   },
   "outputs": [],
   "source": [
    "def CV(clf, X, y, kf):\n",
    "    metric = []\n",
    "    \n",
    "    for i, (t_ind, v_ind) in enumerate(kf.split(X, y)):\n",
    "        train_X, validate_X = X.iloc[t_ind], X.iloc[v_ind]\n",
    "        train_y, validate_y = y.iloc[t_ind], y.iloc[v_ind]\n",
    "\n",
    "        model = clf.fit(train_X, train_y)\n",
    "        \n",
    "        preds = model.predict(validate_X)\n",
    "        \n",
    "        score = accuracy_score(validate_y, preds)\n",
    "        \n",
    "        print(f\"Finished fold {i + 1}\")\n",
    "        \n",
    "        print(classification_report(validate_y, preds))\n",
    "        \n",
    "        metric.append(score)\n",
    "        \n",
    "    return np.mean(metric), np.std(metric)"
   ]
  },
  {
   "cell_type": "markdown",
   "id": "9cc06c27",
   "metadata": {
    "papermill": {
     "duration": 0.027765,
     "end_time": "2024-02-07T15:39:10.947400",
     "exception": false,
     "start_time": "2024-02-07T15:39:10.919635",
     "status": "completed"
    },
    "tags": []
   },
   "source": [
    "Using lazypredict to get best performance models"
   ]
  },
  {
   "cell_type": "code",
   "execution_count": 40,
   "id": "487de15a",
   "metadata": {
    "execution": {
     "iopub.execute_input": "2024-02-07T15:39:11.006574Z",
     "iopub.status.busy": "2024-02-07T15:39:11.006096Z",
     "iopub.status.idle": "2024-02-07T15:39:11.010722Z",
     "shell.execute_reply": "2024-02-07T15:39:11.009864Z"
    },
    "papermill": {
     "duration": 0.036913,
     "end_time": "2024-02-07T15:39:11.013056",
     "exception": false,
     "start_time": "2024-02-07T15:39:10.976143",
     "status": "completed"
    },
    "tags": []
   },
   "outputs": [],
   "source": [
    "# X, y = df_train.drop([\"NObeyesdad\"], axis=1), df_train[\"NObeyesdad\"]\n",
    "# for i, (t_ind, v_ind) in enumerate(kf.split(X, y)):\n",
    "#     train = df_train.iloc[t_ind]\n",
    "#     train_X = train.drop([\"NObeyesdad\"], axis=1)\n",
    "#     train_y = train[\"NObeyesdad\"]\n",
    "    \n",
    "#     validate = df_train.iloc[v_ind]\n",
    "#     validate_X = validate.drop([\"NObeyesdad\"], axis=1)\n",
    "#     validate_y = validate[\"NObeyesdad\"]\n",
    "    \n",
    "#     models, predictions = clf.fit(train_X, validate_X, train_y, validate_y)\n",
    "    \n",
    "#     print(f\"Fold {i + 1}\")\n",
    "#     print(models)"
   ]
  },
  {
   "cell_type": "markdown",
   "id": "bea06ab4",
   "metadata": {
    "papermill": {
     "duration": 0.027746,
     "end_time": "2024-02-07T15:39:11.069685",
     "exception": false,
     "start_time": "2024-02-07T15:39:11.041939",
     "status": "completed"
    },
    "tags": []
   },
   "source": [
    "I'll get top 8 predictor (respectively):\n",
    "1. LGBMClassifier\n",
    "2. XGBClassifier\n",
    "3. RandomForestClassifier\n",
    "4. BaggingClassifier\n",
    "5. ExtraTreesClassifier\n",
    "6. SVC\n",
    "7. LogisticRegression\n",
    "8. DecisionTreeClassifier"
   ]
  },
  {
   "cell_type": "markdown",
   "id": "ac4729fe",
   "metadata": {
    "papermill": {
     "duration": 0.027418,
     "end_time": "2024-02-07T15:39:11.125154",
     "exception": false,
     "start_time": "2024-02-07T15:39:11.097736",
     "status": "completed"
    },
    "tags": []
   },
   "source": [
    "## Grid Search to find best parameters"
   ]
  },
  {
   "cell_type": "code",
   "execution_count": 41,
   "id": "20c7a82b",
   "metadata": {
    "execution": {
     "iopub.execute_input": "2024-02-07T15:39:11.184889Z",
     "iopub.status.busy": "2024-02-07T15:39:11.184196Z",
     "iopub.status.idle": "2024-02-07T15:39:11.194758Z",
     "shell.execute_reply": "2024-02-07T15:39:11.193732Z"
    },
    "papermill": {
     "duration": 0.044397,
     "end_time": "2024-02-07T15:39:11.197649",
     "exception": false,
     "start_time": "2024-02-07T15:39:11.153252",
     "status": "completed"
    },
    "tags": []
   },
   "outputs": [],
   "source": [
    "train_X = df_train.drop([\"NObeyesdad\"], axis=1)\n",
    "train_y = df_train[\"NObeyesdad\"]"
   ]
  },
  {
   "cell_type": "code",
   "execution_count": 42,
   "id": "9c782bda",
   "metadata": {
    "execution": {
     "iopub.execute_input": "2024-02-07T15:39:11.256763Z",
     "iopub.status.busy": "2024-02-07T15:39:11.256321Z",
     "iopub.status.idle": "2024-02-07T15:39:12.789680Z",
     "shell.execute_reply": "2024-02-07T15:39:12.788657Z"
    },
    "papermill": {
     "duration": 1.566343,
     "end_time": "2024-02-07T15:39:12.792681",
     "exception": false,
     "start_time": "2024-02-07T15:39:11.226338",
     "status": "completed"
    },
    "tags": []
   },
   "outputs": [],
   "source": [
    "import optuna"
   ]
  },
  {
   "cell_type": "code",
   "execution_count": 43,
   "id": "c8587a7f",
   "metadata": {
    "execution": {
     "iopub.execute_input": "2024-02-07T15:39:12.851109Z",
     "iopub.status.busy": "2024-02-07T15:39:12.850716Z",
     "iopub.status.idle": "2024-02-07T15:39:12.857360Z",
     "shell.execute_reply": "2024-02-07T15:39:12.856190Z"
    },
    "papermill": {
     "duration": 0.038868,
     "end_time": "2024-02-07T15:39:12.859880",
     "exception": false,
     "start_time": "2024-02-07T15:39:12.821012",
     "status": "completed"
    },
    "tags": []
   },
   "outputs": [],
   "source": [
    "from sklearn.ensemble import ExtraTreesClassifier, RandomForestClassifier\n",
    "from sklearn.tree import DecisionTreeClassifier\n",
    "from sklearn.ensemble import BaggingClassifier\n",
    "from sklearn.svm import SVC\n",
    "from sklearn.linear_model import LogisticRegression\n",
    "from xgboost import XGBClassifier\n",
    "from lightgbm import LGBMClassifier"
   ]
  },
  {
   "cell_type": "code",
   "execution_count": 44,
   "id": "7f4a2ed1",
   "metadata": {
    "execution": {
     "iopub.execute_input": "2024-02-07T15:39:12.917962Z",
     "iopub.status.busy": "2024-02-07T15:39:12.917502Z",
     "iopub.status.idle": "2024-02-07T15:39:12.933870Z",
     "shell.execute_reply": "2024-02-07T15:39:12.932776Z"
    },
    "papermill": {
     "duration": 0.048574,
     "end_time": "2024-02-07T15:39:12.936395",
     "exception": false,
     "start_time": "2024-02-07T15:39:12.887821",
     "status": "completed"
    },
    "tags": []
   },
   "outputs": [],
   "source": [
    "def xgb_objective(trial):\n",
    "    kf = StratifiedKFold(n_splits=5, \n",
    "                         shuffle=True,\n",
    "                         random_state=random_state)\n",
    "    scores = []\n",
    "    \n",
    "    # List of suggested parameters\n",
    "    param = {\n",
    "        \"verbosity\": 0,\n",
    "        \"objective\": \"multi:softprob\",\n",
    "        # use exact for small dataset.\n",
    "        \"tree_method\": trial.suggest_categorical(\"tree_method\", [\"exact\", \"approx\", \"hist\"]),\n",
    "        # defines booster, gblinear for linear functions.\n",
    "        \"booster\": trial.suggest_categorical(\"booster\", [\"gbtree\", \"gblinear\", \"dart\"]),\n",
    "        # L2 regularization weight.\n",
    "        \"lambda\": trial.suggest_float(\"lambda\", 1e-8, 1.0, log=True),\n",
    "        # L1 regularization weight.\n",
    "        \"alpha\": trial.suggest_float(\"alpha\", 1e-8, 1.0, log=True),\n",
    "        # sampling ratio for training data.\n",
    "        \"subsample\": trial.suggest_float(\"subsample\", 0.2, 1.0),\n",
    "        # sampling according to each tree.\n",
    "        \"colsample_bytree\": trial.suggest_float(\"colsample_bytree\", 0.2, 1.0),\n",
    "    }\n",
    "    \n",
    "    if param[\"booster\"] in [\"gbtree\", \"dart\"]:\n",
    "        # maximum depth of the tree, signifies complexity of the tree.\n",
    "        param[\"max_depth\"] = trial.suggest_int(\"max_depth\", 3, 9, step=2)\n",
    "        # minimum child weight, larger the term more conservative the tree.\n",
    "        param[\"min_child_weight\"] = trial.suggest_int(\"min_child_weight\", 2, 10)\n",
    "        param[\"eta\"] = trial.suggest_float(\"eta\", 1e-8, 1.0, log=True)\n",
    "        # defines how selective algorithm is.\n",
    "        param[\"gamma\"] = trial.suggest_float(\"gamma\", 1e-8, 1.0, log=True)\n",
    "        param[\"grow_policy\"] = trial.suggest_categorical(\"grow_policy\", [\"depthwise\", \"lossguide\"])\n",
    "\n",
    "    if param[\"booster\"] == \"dart\":\n",
    "        param[\"sample_type\"] = trial.suggest_categorical(\"sample_type\", [\"uniform\", \"weighted\"])\n",
    "        param[\"normalize_type\"] = trial.suggest_categorical(\"normalize_type\", [\"tree\", \"forest\"])\n",
    "        param[\"rate_drop\"] = trial.suggest_float(\"rate_drop\", 1e-8, 1.0, log=True)\n",
    "        param[\"skip_drop\"] = trial.suggest_float(\"skip_drop\", 1e-8, 1.0, log=True)\n",
    "        \n",
    "    for train_idx, val_idx in kf.split(train_X, train_y):\n",
    "        train_X_fold, train_y_fold = train_X.iloc[train_idx], train_y.iloc[train_idx]\n",
    "        val_X_fold, val_y_fold = train_X.iloc[val_idx], train_y.iloc[val_idx]\n",
    "        \n",
    "        model = XGBClassifier(\n",
    "            random_state=42,\n",
    "            **param\n",
    "        )\n",
    "        \n",
    "        model.fit(train_X_fold, train_y_fold)\n",
    "        \n",
    "        preds = model.predict(val_X_fold)\n",
    "        \n",
    "        accuracy_fold = accuracy_score(val_y_fold, preds)\n",
    "        \n",
    "        scores.append(accuracy_fold)\n",
    "    \n",
    "    return np.mean(scores)"
   ]
  },
  {
   "cell_type": "code",
   "execution_count": 45,
   "id": "2e3d1f1d",
   "metadata": {
    "execution": {
     "iopub.execute_input": "2024-02-07T15:39:13.004077Z",
     "iopub.status.busy": "2024-02-07T15:39:13.003674Z",
     "iopub.status.idle": "2024-02-07T15:39:13.007839Z",
     "shell.execute_reply": "2024-02-07T15:39:13.006900Z"
    },
    "papermill": {
     "duration": 0.03982,
     "end_time": "2024-02-07T15:39:13.010103",
     "exception": false,
     "start_time": "2024-02-07T15:39:12.970283",
     "status": "completed"
    },
    "tags": []
   },
   "outputs": [],
   "source": [
    "# study_xgb = optuna.create_study(direction=\"maximize\")\n",
    "# study_xgb.optimize(xgb_objective, n_trials=20)\n",
    "\n",
    "# print('Number of finished trials:', len(study_xgb.trials))\n",
    "# print('Best trial:', study_xgb.best_trial.params)"
   ]
  },
  {
   "cell_type": "code",
   "execution_count": 46,
   "id": "bb00368b",
   "metadata": {
    "execution": {
     "iopub.execute_input": "2024-02-07T15:39:13.069091Z",
     "iopub.status.busy": "2024-02-07T15:39:13.068683Z",
     "iopub.status.idle": "2024-02-07T15:39:13.079926Z",
     "shell.execute_reply": "2024-02-07T15:39:13.078943Z"
    },
    "papermill": {
     "duration": 0.044082,
     "end_time": "2024-02-07T15:39:13.082296",
     "exception": false,
     "start_time": "2024-02-07T15:39:13.038214",
     "status": "completed"
    },
    "tags": []
   },
   "outputs": [],
   "source": [
    "def lgbm_objective(trial):\n",
    "    kf = StratifiedKFold(n_splits=5, \n",
    "                         shuffle=True,\n",
    "                         random_state=random_state)\n",
    "    scores = []\n",
    "    \n",
    "    # List of suggested parameters\n",
    "    param = {\n",
    "        \"objective\": \"multiclass\",\n",
    "        \"metric\": \"softmax\",\n",
    "        \"verbosity\": -1,\n",
    "        \"boosting_type\": trial.suggest_categorical(\"boosting_type\", [\"gbdt\", \"rf\", \"dart\"]),\n",
    "        \"lambda_l1\": trial.suggest_float(\"lambda_l1\", 1e-8, 10.0, log=True),\n",
    "        \"lambda_l2\": trial.suggest_float(\"lambda_l2\", 1e-8, 10.0, log=True),\n",
    "        \"num_leaves\": trial.suggest_int(\"num_leaves\", 2, 256),\n",
    "        \"feature_fraction\": trial.suggest_float(\"feature_fraction\", 0.4, 1.0),\n",
    "        \"bagging_fraction\": trial.suggest_float(\"bagging_fraction\", 0.4, 1.0),\n",
    "        \"bagging_freq\": trial.suggest_int(\"bagging_freq\", 1, 7),\n",
    "        \"min_child_samples\": trial.suggest_int(\"min_child_samples\", 5, 100),\n",
    "    }\n",
    "        \n",
    "    for train_idx, val_idx in kf.split(train_X, train_y):\n",
    "        train_X_fold, train_y_fold = train_X.iloc[train_idx], train_y.iloc[train_idx]\n",
    "        val_X_fold, val_y_fold = train_X.iloc[val_idx], train_y.iloc[val_idx]\n",
    "        \n",
    "        model = LGBMClassifier(\n",
    "            random_state=42,\n",
    "            **param\n",
    "        )\n",
    "        \n",
    "        model.fit(train_X_fold, train_y_fold)\n",
    "        \n",
    "        preds = model.predict(val_X_fold)\n",
    "        \n",
    "        accuracy_fold = accuracy_score(val_y_fold, preds)\n",
    "        \n",
    "        scores.append(accuracy_fold)\n",
    "    \n",
    "    return np.mean(scores)"
   ]
  },
  {
   "cell_type": "code",
   "execution_count": 47,
   "id": "f66ed2c3",
   "metadata": {
    "execution": {
     "iopub.execute_input": "2024-02-07T15:39:13.140297Z",
     "iopub.status.busy": "2024-02-07T15:39:13.139508Z",
     "iopub.status.idle": "2024-02-07T15:39:13.143675Z",
     "shell.execute_reply": "2024-02-07T15:39:13.142822Z"
    },
    "papermill": {
     "duration": 0.035897,
     "end_time": "2024-02-07T15:39:13.146008",
     "exception": false,
     "start_time": "2024-02-07T15:39:13.110111",
     "status": "completed"
    },
    "tags": []
   },
   "outputs": [],
   "source": [
    "# study_lgbm = optuna.create_study(direction=\"maximize\")\n",
    "# study_lgbm.optimize(lgbm_objective, n_trials=20)\n",
    "\n",
    "# print('Number of finished trials:', len(study_lgbm.trials))\n",
    "# print('Best trial:', study_lgbm.best_trial.params)"
   ]
  },
  {
   "cell_type": "markdown",
   "id": "3e0608e5",
   "metadata": {
    "papermill": {
     "duration": 0.028917,
     "end_time": "2024-02-07T15:39:13.202698",
     "exception": false,
     "start_time": "2024-02-07T15:39:13.173781",
     "status": "completed"
    },
    "tags": []
   },
   "source": [
    "# Try predicting"
   ]
  },
  {
   "cell_type": "code",
   "execution_count": 48,
   "id": "d36fe89a",
   "metadata": {
    "execution": {
     "iopub.execute_input": "2024-02-07T15:39:13.260689Z",
     "iopub.status.busy": "2024-02-07T15:39:13.259855Z",
     "iopub.status.idle": "2024-02-07T15:39:13.264312Z",
     "shell.execute_reply": "2024-02-07T15:39:13.263489Z"
    },
    "papermill": {
     "duration": 0.036124,
     "end_time": "2024-02-07T15:39:13.266509",
     "exception": false,
     "start_time": "2024-02-07T15:39:13.230385",
     "status": "completed"
    },
    "tags": []
   },
   "outputs": [],
   "source": [
    "from sklearn.ensemble import VotingClassifier, StackingClassifier"
   ]
  },
  {
   "cell_type": "code",
   "execution_count": 49,
   "id": "475556ad",
   "metadata": {
    "execution": {
     "iopub.execute_input": "2024-02-07T15:39:13.325153Z",
     "iopub.status.busy": "2024-02-07T15:39:13.324333Z",
     "iopub.status.idle": "2024-02-07T15:39:13.334536Z",
     "shell.execute_reply": "2024-02-07T15:39:13.333506Z"
    },
    "papermill": {
     "duration": 0.042787,
     "end_time": "2024-02-07T15:39:13.337061",
     "exception": false,
     "start_time": "2024-02-07T15:39:13.294274",
     "status": "completed"
    },
    "tags": []
   },
   "outputs": [],
   "source": [
    "# final_classifier = VotingClassifier(\n",
    "#     estimators = [\n",
    "#         (\"extra_trees\", ExtraTreesClassifier(random_state=random_state)),\n",
    "#         (\"rf\", RandomForestClassifier(random_state=random_state)),\n",
    "# #         (\"dt\", DecisionTreeClassifier(random_state=random_state)),\n",
    "# #         (\"bagging\", BaggingClassifier(random_state=random_state)),\n",
    "# #         (\"svc\", SVC(random_state=random_state)),\n",
    "# #         (\"lr\", LogisticRegression(random_state=random_state)),\n",
    "#         (\"xgb\", XGBClassifier(random_state=random_state)),\n",
    "#         (\"lgbm\", LGBMClassifier(random_state=random_state))\n",
    "#     ]\n",
    "# )\n",
    "\n",
    "final_classifier = StackingClassifier(\n",
    "    estimators = [\n",
    "#         (\"extra_trees\", ExtraTreesClassifier(random_state=random_state)),\n",
    "#         (\"rf\", RandomForestClassifier(random_state=random_state)),\n",
    "#         (\"dt\", DecisionTreeClassifier(random_state=random_state)),\n",
    "#         (\"bagging\", BaggingClassifier(random_state=random_state)),\n",
    "#         (\"svc\", SVC(random_state=random_state)),\n",
    "#         (\"lr\", LogisticRegression(random_state=random_state)),\n",
    "        (\"xgb\", XGBClassifier(random_state=random_state, **{\n",
    "            \"verbosity\": 0,\n",
    "            \"objective\": \"multi:softprob\",\n",
    "            'tree_method': 'hist', \n",
    "            'booster': 'dart', \n",
    "            'lambda': 0.0010046902217712437, \n",
    "            'alpha': 2.3228898994574606e-05, \n",
    "            'subsample': 0.8430271830704958, \n",
    "            'colsample_bytree': 0.6062771078777813, \n",
    "            'max_depth': 7, \n",
    "            'min_child_weight': 6, \n",
    "            'eta': 0.13030898540211466, \n",
    "            'gamma': 1.9167254782290146e-05, \n",
    "            'grow_policy': 'lossguide', \n",
    "            'sample_type': 'uniform', \n",
    "            'normalize_type': 'forest', \n",
    "            'rate_drop': 8.616905977778094e-06, \n",
    "            'skip_drop': 0.008301542112391098\n",
    "        })),\n",
    "        (\"lgbm\", LGBMClassifier(random_state=random_state, **{\n",
    "            \"objective\": \"multiclass\",\n",
    "            \"metric\": \"softmax\",\n",
    "            \"verbosity\": -1,\n",
    "            'boosting_type': 'gbdt', \n",
    "            'lambda_l1': 7.87867319097297e-07, \n",
    "            'lambda_l2': 0.13088250802149265, \n",
    "            'num_leaves': 35, \n",
    "            'feature_fraction': 0.5013740302606244, \n",
    "            'bagging_fraction': 0.7779022790702624, \n",
    "            'bagging_freq': 2, \n",
    "            'min_child_samples': 89}))\n",
    "    ]\n",
    ")"
   ]
  },
  {
   "cell_type": "markdown",
   "id": "77e9576f",
   "metadata": {
    "papermill": {
     "duration": 0.027564,
     "end_time": "2024-02-07T15:39:13.392424",
     "exception": false,
     "start_time": "2024-02-07T15:39:13.364860",
     "status": "completed"
    },
    "tags": []
   },
   "source": [
    "## CV"
   ]
  },
  {
   "cell_type": "code",
   "execution_count": 50,
   "id": "f2ce66ba",
   "metadata": {
    "execution": {
     "iopub.execute_input": "2024-02-07T15:39:13.450063Z",
     "iopub.status.busy": "2024-02-07T15:39:13.449269Z",
     "iopub.status.idle": "2024-02-07T17:12:32.786567Z",
     "shell.execute_reply": "2024-02-07T17:12:32.784013Z"
    },
    "papermill": {
     "duration": 5599.383749,
     "end_time": "2024-02-07T17:12:32.803944",
     "exception": false,
     "start_time": "2024-02-07T15:39:13.420195",
     "status": "completed"
    },
    "tags": []
   },
   "outputs": [
    {
     "name": "stdout",
     "output_type": "stream",
     "text": [
      "Finished fold 1\n",
      "              precision    recall  f1-score   support\n",
      "\n",
      "           0       0.93      0.95      0.94       505\n",
      "           1       0.90      0.89      0.90       616\n",
      "           2       0.91      0.90      0.90       582\n",
      "           3       0.98      0.98      0.98       650\n",
      "           4       1.00      1.00      1.00       809\n",
      "           5       0.78      0.77      0.78       485\n",
      "           6       0.82      0.83      0.82       505\n",
      "\n",
      "    accuracy                           0.91      4152\n",
      "   macro avg       0.90      0.90      0.90      4152\n",
      "weighted avg       0.91      0.91      0.91      4152\n",
      "\n",
      "Finished fold 2\n",
      "              precision    recall  f1-score   support\n",
      "\n",
      "           0       0.94      0.94      0.94       505\n",
      "           1       0.87      0.89      0.88       616\n",
      "           2       0.89      0.88      0.89       582\n",
      "           3       0.96      0.96      0.96       649\n",
      "           4       1.00      0.99      1.00       809\n",
      "           5       0.81      0.74      0.77       486\n",
      "           6       0.79      0.84      0.81       505\n",
      "\n",
      "    accuracy                           0.90      4152\n",
      "   macro avg       0.89      0.89      0.89      4152\n",
      "weighted avg       0.90      0.90      0.90      4152\n",
      "\n",
      "Finished fold 3\n",
      "              precision    recall  f1-score   support\n",
      "\n",
      "           0       0.93      0.93      0.93       504\n",
      "           1       0.89      0.90      0.89       617\n",
      "           2       0.89      0.88      0.88       582\n",
      "           3       0.97      0.99      0.98       649\n",
      "           4       1.00      1.00      1.00       810\n",
      "           5       0.83      0.78      0.80       486\n",
      "           6       0.80      0.83      0.82       504\n",
      "\n",
      "    accuracy                           0.91      4152\n",
      "   macro avg       0.90      0.90      0.90      4152\n",
      "weighted avg       0.91      0.91      0.91      4152\n",
      "\n",
      "Finished fold 4\n",
      "              precision    recall  f1-score   support\n",
      "\n",
      "           0       0.93      0.93      0.93       504\n",
      "           1       0.86      0.87      0.87       617\n",
      "           2       0.87      0.88      0.88       582\n",
      "           3       0.97      0.96      0.97       650\n",
      "           4       1.00      1.00      1.00       809\n",
      "           5       0.80      0.78      0.79       485\n",
      "           6       0.80      0.81      0.80       504\n",
      "\n",
      "    accuracy                           0.90      4151\n",
      "   macro avg       0.89      0.89      0.89      4151\n",
      "weighted avg       0.90      0.90      0.90      4151\n",
      "\n",
      "Finished fold 5\n",
      "              precision    recall  f1-score   support\n",
      "\n",
      "           0       0.93      0.93      0.93       505\n",
      "           1       0.88      0.88      0.88       616\n",
      "           2       0.91      0.88      0.89       582\n",
      "           3       0.95      0.98      0.97       650\n",
      "           4       0.99      1.00      1.00       809\n",
      "           5       0.80      0.81      0.80       485\n",
      "           6       0.83      0.82      0.82       504\n",
      "\n",
      "    accuracy                           0.91      4151\n",
      "   macro avg       0.90      0.90      0.90      4151\n",
      "weighted avg       0.91      0.91      0.91      4151\n",
      "\n",
      "Mean accuracy = 0.9072162428998931, std accuracy = 0.004288301414857493\n"
     ]
    }
   ],
   "source": [
    "acc_mean, acc_std = CV(final_classifier, train_X, train_y, kf)\n",
    "\n",
    "print(f\"Mean accuracy = {acc_mean}, std accuracy = {acc_std}\")"
   ]
  },
  {
   "cell_type": "markdown",
   "id": "5130808c",
   "metadata": {
    "papermill": {
     "duration": 0.02816,
     "end_time": "2024-02-07T17:12:32.860220",
     "exception": false,
     "start_time": "2024-02-07T17:12:32.832060",
     "status": "completed"
    },
    "tags": []
   },
   "source": [
    "## Fit the final classifier"
   ]
  },
  {
   "cell_type": "code",
   "execution_count": 51,
   "id": "b0f96b0c",
   "metadata": {
    "execution": {
     "iopub.execute_input": "2024-02-07T17:12:32.919560Z",
     "iopub.status.busy": "2024-02-07T17:12:32.919138Z",
     "iopub.status.idle": "2024-02-07T17:36:03.228750Z",
     "shell.execute_reply": "2024-02-07T17:36:03.227187Z"
    },
    "papermill": {
     "duration": 1410.372885,
     "end_time": "2024-02-07T17:36:03.261905",
     "exception": false,
     "start_time": "2024-02-07T17:12:32.889020",
     "status": "completed"
    },
    "tags": []
   },
   "outputs": [
    {
     "data": {
      "text/html": [
       "<style>#sk-container-id-1 {color: black;background-color: white;}#sk-container-id-1 pre{padding: 0;}#sk-container-id-1 div.sk-toggleable {background-color: white;}#sk-container-id-1 label.sk-toggleable__label {cursor: pointer;display: block;width: 100%;margin-bottom: 0;padding: 0.3em;box-sizing: border-box;text-align: center;}#sk-container-id-1 label.sk-toggleable__label-arrow:before {content: \"▸\";float: left;margin-right: 0.25em;color: #696969;}#sk-container-id-1 label.sk-toggleable__label-arrow:hover:before {color: black;}#sk-container-id-1 div.sk-estimator:hover label.sk-toggleable__label-arrow:before {color: black;}#sk-container-id-1 div.sk-toggleable__content {max-height: 0;max-width: 0;overflow: hidden;text-align: left;background-color: #f0f8ff;}#sk-container-id-1 div.sk-toggleable__content pre {margin: 0.2em;color: black;border-radius: 0.25em;background-color: #f0f8ff;}#sk-container-id-1 input.sk-toggleable__control:checked~div.sk-toggleable__content {max-height: 200px;max-width: 100%;overflow: auto;}#sk-container-id-1 input.sk-toggleable__control:checked~label.sk-toggleable__label-arrow:before {content: \"▾\";}#sk-container-id-1 div.sk-estimator input.sk-toggleable__control:checked~label.sk-toggleable__label {background-color: #d4ebff;}#sk-container-id-1 div.sk-label input.sk-toggleable__control:checked~label.sk-toggleable__label {background-color: #d4ebff;}#sk-container-id-1 input.sk-hidden--visually {border: 0;clip: rect(1px 1px 1px 1px);clip: rect(1px, 1px, 1px, 1px);height: 1px;margin: -1px;overflow: hidden;padding: 0;position: absolute;width: 1px;}#sk-container-id-1 div.sk-estimator {font-family: monospace;background-color: #f0f8ff;border: 1px dotted black;border-radius: 0.25em;box-sizing: border-box;margin-bottom: 0.5em;}#sk-container-id-1 div.sk-estimator:hover {background-color: #d4ebff;}#sk-container-id-1 div.sk-parallel-item::after {content: \"\";width: 100%;border-bottom: 1px solid gray;flex-grow: 1;}#sk-container-id-1 div.sk-label:hover label.sk-toggleable__label {background-color: #d4ebff;}#sk-container-id-1 div.sk-serial::before {content: \"\";position: absolute;border-left: 1px solid gray;box-sizing: border-box;top: 0;bottom: 0;left: 50%;z-index: 0;}#sk-container-id-1 div.sk-serial {display: flex;flex-direction: column;align-items: center;background-color: white;padding-right: 0.2em;padding-left: 0.2em;position: relative;}#sk-container-id-1 div.sk-item {position: relative;z-index: 1;}#sk-container-id-1 div.sk-parallel {display: flex;align-items: stretch;justify-content: center;background-color: white;position: relative;}#sk-container-id-1 div.sk-item::before, #sk-container-id-1 div.sk-parallel-item::before {content: \"\";position: absolute;border-left: 1px solid gray;box-sizing: border-box;top: 0;bottom: 0;left: 50%;z-index: -1;}#sk-container-id-1 div.sk-parallel-item {display: flex;flex-direction: column;z-index: 1;position: relative;background-color: white;}#sk-container-id-1 div.sk-parallel-item:first-child::after {align-self: flex-end;width: 50%;}#sk-container-id-1 div.sk-parallel-item:last-child::after {align-self: flex-start;width: 50%;}#sk-container-id-1 div.sk-parallel-item:only-child::after {width: 0;}#sk-container-id-1 div.sk-dashed-wrapped {border: 1px dashed gray;margin: 0 0.4em 0.5em 0.4em;box-sizing: border-box;padding-bottom: 0.4em;background-color: white;}#sk-container-id-1 div.sk-label label {font-family: monospace;font-weight: bold;display: inline-block;line-height: 1.2em;}#sk-container-id-1 div.sk-label-container {text-align: center;}#sk-container-id-1 div.sk-container {/* jupyter's `normalize.less` sets `[hidden] { display: none; }` but bootstrap.min.css set `[hidden] { display: none !important; }` so we also need the `!important` here to be able to override the default hidden behavior on the sphinx rendered scikit-learn.org. See: https://github.com/scikit-learn/scikit-learn/issues/21755 */display: inline-block !important;position: relative;}#sk-container-id-1 div.sk-text-repr-fallback {display: none;}</style><div id=\"sk-container-id-1\" class=\"sk-top-container\"><div class=\"sk-text-repr-fallback\"><pre>StackingClassifier(estimators=[(&#x27;xgb&#x27;,\n",
       "                                XGBClassifier(alpha=2.3228898994574606e-05,\n",
       "                                              base_score=None, booster=&#x27;dart&#x27;,\n",
       "                                              callbacks=None,\n",
       "                                              colsample_bylevel=None,\n",
       "                                              colsample_bynode=None,\n",
       "                                              colsample_bytree=0.6062771078777813,\n",
       "                                              device=None,\n",
       "                                              early_stopping_rounds=None,\n",
       "                                              enable_categorical=False,\n",
       "                                              eta=0.13030898540211466,\n",
       "                                              eval_metric=None,\n",
       "                                              feature_types=None,\n",
       "                                              gamma=1.9167254782...\n",
       "                                              min_child_weight=6, missing=nan,\n",
       "                                              monotone_constraints=None,\n",
       "                                              multi_strategy=None,\n",
       "                                              n_estimators=None, ...)),\n",
       "                               (&#x27;lgbm&#x27;,\n",
       "                                LGBMClassifier(bagging_fraction=0.7779022790702624,\n",
       "                                               bagging_freq=2,\n",
       "                                               feature_fraction=0.5013740302606244,\n",
       "                                               lambda_l1=7.87867319097297e-07,\n",
       "                                               lambda_l2=0.13088250802149265,\n",
       "                                               metric=&#x27;softmax&#x27;,\n",
       "                                               min_child_samples=89,\n",
       "                                               num_leaves=35,\n",
       "                                               objective=&#x27;multiclass&#x27;,\n",
       "                                               random_state=42,\n",
       "                                               verbosity=-1))])</pre><b>In a Jupyter environment, please rerun this cell to show the HTML representation or trust the notebook. <br />On GitHub, the HTML representation is unable to render, please try loading this page with nbviewer.org.</b></div><div class=\"sk-container\" hidden><div class=\"sk-item sk-dashed-wrapped\"><div class=\"sk-label-container\"><div class=\"sk-label sk-toggleable\"><input class=\"sk-toggleable__control sk-hidden--visually\" id=\"sk-estimator-id-1\" type=\"checkbox\" ><label for=\"sk-estimator-id-1\" class=\"sk-toggleable__label sk-toggleable__label-arrow\">StackingClassifier</label><div class=\"sk-toggleable__content\"><pre>StackingClassifier(estimators=[(&#x27;xgb&#x27;,\n",
       "                                XGBClassifier(alpha=2.3228898994574606e-05,\n",
       "                                              base_score=None, booster=&#x27;dart&#x27;,\n",
       "                                              callbacks=None,\n",
       "                                              colsample_bylevel=None,\n",
       "                                              colsample_bynode=None,\n",
       "                                              colsample_bytree=0.6062771078777813,\n",
       "                                              device=None,\n",
       "                                              early_stopping_rounds=None,\n",
       "                                              enable_categorical=False,\n",
       "                                              eta=0.13030898540211466,\n",
       "                                              eval_metric=None,\n",
       "                                              feature_types=None,\n",
       "                                              gamma=1.9167254782...\n",
       "                                              min_child_weight=6, missing=nan,\n",
       "                                              monotone_constraints=None,\n",
       "                                              multi_strategy=None,\n",
       "                                              n_estimators=None, ...)),\n",
       "                               (&#x27;lgbm&#x27;,\n",
       "                                LGBMClassifier(bagging_fraction=0.7779022790702624,\n",
       "                                               bagging_freq=2,\n",
       "                                               feature_fraction=0.5013740302606244,\n",
       "                                               lambda_l1=7.87867319097297e-07,\n",
       "                                               lambda_l2=0.13088250802149265,\n",
       "                                               metric=&#x27;softmax&#x27;,\n",
       "                                               min_child_samples=89,\n",
       "                                               num_leaves=35,\n",
       "                                               objective=&#x27;multiclass&#x27;,\n",
       "                                               random_state=42,\n",
       "                                               verbosity=-1))])</pre></div></div></div><div class=\"sk-serial\"><div class=\"sk-item\"><div class=\"sk-parallel\"><div class=\"sk-parallel-item\"><div class=\"sk-item\"><div class=\"sk-label-container\"><div class=\"sk-label sk-toggleable\"><label>xgb</label></div></div><div class=\"sk-serial\"><div class=\"sk-item\"><div class=\"sk-estimator sk-toggleable\"><input class=\"sk-toggleable__control sk-hidden--visually\" id=\"sk-estimator-id-2\" type=\"checkbox\" ><label for=\"sk-estimator-id-2\" class=\"sk-toggleable__label sk-toggleable__label-arrow\">XGBClassifier</label><div class=\"sk-toggleable__content\"><pre>XGBClassifier(alpha=2.3228898994574606e-05, base_score=None, booster=&#x27;dart&#x27;,\n",
       "              callbacks=None, colsample_bylevel=None, colsample_bynode=None,\n",
       "              colsample_bytree=0.6062771078777813, device=None,\n",
       "              early_stopping_rounds=None, enable_categorical=False,\n",
       "              eta=0.13030898540211466, eval_metric=None, feature_types=None,\n",
       "              gamma=1.9167254782290146e-05, grow_policy=&#x27;lossguide&#x27;,\n",
       "              importance_type=None, interaction_constraints=None,\n",
       "              lambda=0.0010046902217712437, learning_rate=None, max_bin=None,\n",
       "              max_cat_threshold=None, max_cat_to_onehot=None,\n",
       "              max_delta_step=None, max_depth=7, max_leaves=None,\n",
       "              min_child_weight=6, missing=nan, monotone_constraints=None,\n",
       "              multi_strategy=None, n_estimators=None, ...)</pre></div></div></div></div></div></div><div class=\"sk-parallel-item\"><div class=\"sk-item\"><div class=\"sk-label-container\"><div class=\"sk-label sk-toggleable\"><label>lgbm</label></div></div><div class=\"sk-serial\"><div class=\"sk-item\"><div class=\"sk-estimator sk-toggleable\"><input class=\"sk-toggleable__control sk-hidden--visually\" id=\"sk-estimator-id-3\" type=\"checkbox\" ><label for=\"sk-estimator-id-3\" class=\"sk-toggleable__label sk-toggleable__label-arrow\">LGBMClassifier</label><div class=\"sk-toggleable__content\"><pre>LGBMClassifier(bagging_fraction=0.7779022790702624, bagging_freq=2,\n",
       "               feature_fraction=0.5013740302606244,\n",
       "               lambda_l1=7.87867319097297e-07, lambda_l2=0.13088250802149265,\n",
       "               metric=&#x27;softmax&#x27;, min_child_samples=89, num_leaves=35,\n",
       "               objective=&#x27;multiclass&#x27;, random_state=42, verbosity=-1)</pre></div></div></div></div></div></div></div></div><div class=\"sk-item\"><div class=\"sk-parallel\"><div class=\"sk-parallel-item\"><div class=\"sk-item\"><div class=\"sk-label-container\"><div class=\"sk-label sk-toggleable\"><label>final_estimator</label></div></div><div class=\"sk-serial\"><div class=\"sk-item\"><div class=\"sk-estimator sk-toggleable\"><input class=\"sk-toggleable__control sk-hidden--visually\" id=\"sk-estimator-id-4\" type=\"checkbox\" ><label for=\"sk-estimator-id-4\" class=\"sk-toggleable__label sk-toggleable__label-arrow\">LogisticRegression</label><div class=\"sk-toggleable__content\"><pre>LogisticRegression()</pre></div></div></div></div></div></div></div></div></div></div></div></div>"
      ],
      "text/plain": [
       "StackingClassifier(estimators=[('xgb',\n",
       "                                XGBClassifier(alpha=2.3228898994574606e-05,\n",
       "                                              base_score=None, booster='dart',\n",
       "                                              callbacks=None,\n",
       "                                              colsample_bylevel=None,\n",
       "                                              colsample_bynode=None,\n",
       "                                              colsample_bytree=0.6062771078777813,\n",
       "                                              device=None,\n",
       "                                              early_stopping_rounds=None,\n",
       "                                              enable_categorical=False,\n",
       "                                              eta=0.13030898540211466,\n",
       "                                              eval_metric=None,\n",
       "                                              feature_types=None,\n",
       "                                              gamma=1.9167254782...\n",
       "                                              min_child_weight=6, missing=nan,\n",
       "                                              monotone_constraints=None,\n",
       "                                              multi_strategy=None,\n",
       "                                              n_estimators=None, ...)),\n",
       "                               ('lgbm',\n",
       "                                LGBMClassifier(bagging_fraction=0.7779022790702624,\n",
       "                                               bagging_freq=2,\n",
       "                                               feature_fraction=0.5013740302606244,\n",
       "                                               lambda_l1=7.87867319097297e-07,\n",
       "                                               lambda_l2=0.13088250802149265,\n",
       "                                               metric='softmax',\n",
       "                                               min_child_samples=89,\n",
       "                                               num_leaves=35,\n",
       "                                               objective='multiclass',\n",
       "                                               random_state=42,\n",
       "                                               verbosity=-1))])"
      ]
     },
     "execution_count": 51,
     "metadata": {},
     "output_type": "execute_result"
    }
   ],
   "source": [
    "final_classifier.fit(train_X, train_y)"
   ]
  },
  {
   "cell_type": "markdown",
   "id": "2e94fb08",
   "metadata": {
    "papermill": {
     "duration": 0.029141,
     "end_time": "2024-02-07T17:36:03.319829",
     "exception": false,
     "start_time": "2024-02-07T17:36:03.290688",
     "status": "completed"
    },
    "tags": []
   },
   "source": [
    "## Predict the validation set"
   ]
  },
  {
   "cell_type": "code",
   "execution_count": 52,
   "id": "9577dbb0",
   "metadata": {
    "execution": {
     "iopub.execute_input": "2024-02-07T17:36:03.381065Z",
     "iopub.status.busy": "2024-02-07T17:36:03.380639Z",
     "iopub.status.idle": "2024-02-07T17:36:03.385871Z",
     "shell.execute_reply": "2024-02-07T17:36:03.384434Z"
    },
    "papermill": {
     "duration": 0.039674,
     "end_time": "2024-02-07T17:36:03.388393",
     "exception": false,
     "start_time": "2024-02-07T17:36:03.348719",
     "status": "completed"
    },
    "tags": []
   },
   "outputs": [],
   "source": [
    "# eval_X, eval_y = df_eval.drop([\"NObeyesdad\"], axis=1), df_eval[\"NObeyesdad\"]\n",
    "# eval_X, eval_y = df_eval[[\"Gender\", \"Age\", \"BMI\"]], df_eval[\"NObeyesdad\"]\n",
    "\n",
    "# val_predictions = final_classifier.predict(eval_X)"
   ]
  },
  {
   "cell_type": "code",
   "execution_count": 53,
   "id": "78a90d16",
   "metadata": {
    "execution": {
     "iopub.execute_input": "2024-02-07T17:36:03.448600Z",
     "iopub.status.busy": "2024-02-07T17:36:03.448167Z",
     "iopub.status.idle": "2024-02-07T17:36:03.453063Z",
     "shell.execute_reply": "2024-02-07T17:36:03.451828Z"
    },
    "papermill": {
     "duration": 0.038223,
     "end_time": "2024-02-07T17:36:03.455603",
     "exception": false,
     "start_time": "2024-02-07T17:36:03.417380",
     "status": "completed"
    },
    "tags": []
   },
   "outputs": [],
   "source": [
    "# print(classification_report(eval_y, val_predictions))"
   ]
  },
  {
   "cell_type": "markdown",
   "id": "3e284613",
   "metadata": {
    "papermill": {
     "duration": 0.029397,
     "end_time": "2024-02-07T17:36:03.514821",
     "exception": false,
     "start_time": "2024-02-07T17:36:03.485424",
     "status": "completed"
    },
    "tags": []
   },
   "source": [
    "## Predict the final test set"
   ]
  },
  {
   "cell_type": "code",
   "execution_count": 54,
   "id": "aa4ef382",
   "metadata": {
    "execution": {
     "iopub.execute_input": "2024-02-07T17:36:03.574611Z",
     "iopub.status.busy": "2024-02-07T17:36:03.574187Z",
     "iopub.status.idle": "2024-02-07T17:36:06.692191Z",
     "shell.execute_reply": "2024-02-07T17:36:06.689682Z"
    },
    "papermill": {
     "duration": 3.151248,
     "end_time": "2024-02-07T17:36:06.695001",
     "exception": false,
     "start_time": "2024-02-07T17:36:03.543753",
     "status": "completed"
    },
    "tags": []
   },
   "outputs": [],
   "source": [
    "predictions = final_classifier.predict(df_test)"
   ]
  },
  {
   "cell_type": "code",
   "execution_count": 55,
   "id": "aec4866d",
   "metadata": {
    "execution": {
     "iopub.execute_input": "2024-02-07T17:36:06.755209Z",
     "iopub.status.busy": "2024-02-07T17:36:06.754678Z",
     "iopub.status.idle": "2024-02-07T17:36:06.761772Z",
     "shell.execute_reply": "2024-02-07T17:36:06.760825Z"
    },
    "papermill": {
     "duration": 0.040904,
     "end_time": "2024-02-07T17:36:06.764958",
     "exception": false,
     "start_time": "2024-02-07T17:36:06.724054",
     "status": "completed"
    },
    "tags": []
   },
   "outputs": [
    {
     "data": {
      "text/plain": [
       "array([3, 5, 4, ..., 0, 1, 3])"
      ]
     },
     "execution_count": 55,
     "metadata": {},
     "output_type": "execute_result"
    }
   ],
   "source": [
    "predictions"
   ]
  },
  {
   "cell_type": "code",
   "execution_count": 56,
   "id": "430a0693",
   "metadata": {
    "execution": {
     "iopub.execute_input": "2024-02-07T17:36:06.825762Z",
     "iopub.status.busy": "2024-02-07T17:36:06.825332Z",
     "iopub.status.idle": "2024-02-07T17:36:06.833334Z",
     "shell.execute_reply": "2024-02-07T17:36:06.832364Z"
    },
    "papermill": {
     "duration": 0.042621,
     "end_time": "2024-02-07T17:36:06.836664",
     "exception": false,
     "start_time": "2024-02-07T17:36:06.794043",
     "status": "completed"
    },
    "tags": []
   },
   "outputs": [
    {
     "data": {
      "text/plain": [
       "array(['Obesity_Type_II', 'Overweight_Level_I', 'Obesity_Type_III', ...,\n",
       "       'Insufficient_Weight', 'Normal_Weight', 'Obesity_Type_II'],\n",
       "      dtype=object)"
      ]
     },
     "execution_count": 56,
     "metadata": {},
     "output_type": "execute_result"
    }
   ],
   "source": [
    "NObeyesdad_encoder.inverse_transform(predictions)"
   ]
  },
  {
   "cell_type": "code",
   "execution_count": 57,
   "id": "b90ed54c",
   "metadata": {
    "execution": {
     "iopub.execute_input": "2024-02-07T17:36:06.896745Z",
     "iopub.status.busy": "2024-02-07T17:36:06.896317Z",
     "iopub.status.idle": "2024-02-07T17:36:06.902493Z",
     "shell.execute_reply": "2024-02-07T17:36:06.901699Z"
    },
    "papermill": {
     "duration": 0.039133,
     "end_time": "2024-02-07T17:36:06.904891",
     "exception": false,
     "start_time": "2024-02-07T17:36:06.865758",
     "status": "completed"
    },
    "tags": []
   },
   "outputs": [
    {
     "data": {
      "text/plain": [
       "array([20758, 20759, 20760, ..., 34595, 34596, 34597])"
      ]
     },
     "execution_count": 57,
     "metadata": {},
     "output_type": "execute_result"
    }
   ],
   "source": [
    "df_test.index.values"
   ]
  },
  {
   "cell_type": "code",
   "execution_count": 58,
   "id": "10037fdc",
   "metadata": {
    "execution": {
     "iopub.execute_input": "2024-02-07T17:36:06.967091Z",
     "iopub.status.busy": "2024-02-07T17:36:06.966700Z",
     "iopub.status.idle": "2024-02-07T17:36:06.973156Z",
     "shell.execute_reply": "2024-02-07T17:36:06.972219Z"
    },
    "papermill": {
     "duration": 0.041073,
     "end_time": "2024-02-07T17:36:06.975486",
     "exception": false,
     "start_time": "2024-02-07T17:36:06.934413",
     "status": "completed"
    },
    "tags": []
   },
   "outputs": [],
   "source": [
    "submission_df = pd.DataFrame({\n",
    "    \"id\": df_test.index.values,\n",
    "    \"NObeyesdad\": NObeyesdad_encoder.inverse_transform(predictions)\n",
    "})"
   ]
  },
  {
   "cell_type": "code",
   "execution_count": 59,
   "id": "46b1efd4",
   "metadata": {
    "execution": {
     "iopub.execute_input": "2024-02-07T17:36:07.036926Z",
     "iopub.status.busy": "2024-02-07T17:36:07.036505Z",
     "iopub.status.idle": "2024-02-07T17:36:07.051478Z",
     "shell.execute_reply": "2024-02-07T17:36:07.050241Z"
    },
    "papermill": {
     "duration": 0.0493,
     "end_time": "2024-02-07T17:36:07.054166",
     "exception": false,
     "start_time": "2024-02-07T17:36:07.004866",
     "status": "completed"
    },
    "tags": []
   },
   "outputs": [
    {
     "data": {
      "text/html": [
       "<div>\n",
       "<style scoped>\n",
       "    .dataframe tbody tr th:only-of-type {\n",
       "        vertical-align: middle;\n",
       "    }\n",
       "\n",
       "    .dataframe tbody tr th {\n",
       "        vertical-align: top;\n",
       "    }\n",
       "\n",
       "    .dataframe thead th {\n",
       "        text-align: right;\n",
       "    }\n",
       "</style>\n",
       "<table border=\"1\" class=\"dataframe\">\n",
       "  <thead>\n",
       "    <tr style=\"text-align: right;\">\n",
       "      <th></th>\n",
       "      <th>id</th>\n",
       "      <th>NObeyesdad</th>\n",
       "    </tr>\n",
       "  </thead>\n",
       "  <tbody>\n",
       "    <tr>\n",
       "      <th>0</th>\n",
       "      <td>20758</td>\n",
       "      <td>Obesity_Type_II</td>\n",
       "    </tr>\n",
       "    <tr>\n",
       "      <th>1</th>\n",
       "      <td>20759</td>\n",
       "      <td>Overweight_Level_I</td>\n",
       "    </tr>\n",
       "    <tr>\n",
       "      <th>2</th>\n",
       "      <td>20760</td>\n",
       "      <td>Obesity_Type_III</td>\n",
       "    </tr>\n",
       "    <tr>\n",
       "      <th>3</th>\n",
       "      <td>20761</td>\n",
       "      <td>Obesity_Type_I</td>\n",
       "    </tr>\n",
       "    <tr>\n",
       "      <th>4</th>\n",
       "      <td>20762</td>\n",
       "      <td>Obesity_Type_III</td>\n",
       "    </tr>\n",
       "    <tr>\n",
       "      <th>...</th>\n",
       "      <td>...</td>\n",
       "      <td>...</td>\n",
       "    </tr>\n",
       "    <tr>\n",
       "      <th>13835</th>\n",
       "      <td>34593</td>\n",
       "      <td>Overweight_Level_II</td>\n",
       "    </tr>\n",
       "    <tr>\n",
       "      <th>13836</th>\n",
       "      <td>34594</td>\n",
       "      <td>Normal_Weight</td>\n",
       "    </tr>\n",
       "    <tr>\n",
       "      <th>13837</th>\n",
       "      <td>34595</td>\n",
       "      <td>Insufficient_Weight</td>\n",
       "    </tr>\n",
       "    <tr>\n",
       "      <th>13838</th>\n",
       "      <td>34596</td>\n",
       "      <td>Normal_Weight</td>\n",
       "    </tr>\n",
       "    <tr>\n",
       "      <th>13839</th>\n",
       "      <td>34597</td>\n",
       "      <td>Obesity_Type_II</td>\n",
       "    </tr>\n",
       "  </tbody>\n",
       "</table>\n",
       "<p>13840 rows × 2 columns</p>\n",
       "</div>"
      ],
      "text/plain": [
       "          id           NObeyesdad\n",
       "0      20758      Obesity_Type_II\n",
       "1      20759   Overweight_Level_I\n",
       "2      20760     Obesity_Type_III\n",
       "3      20761       Obesity_Type_I\n",
       "4      20762     Obesity_Type_III\n",
       "...      ...                  ...\n",
       "13835  34593  Overweight_Level_II\n",
       "13836  34594        Normal_Weight\n",
       "13837  34595  Insufficient_Weight\n",
       "13838  34596        Normal_Weight\n",
       "13839  34597      Obesity_Type_II\n",
       "\n",
       "[13840 rows x 2 columns]"
      ]
     },
     "execution_count": 59,
     "metadata": {},
     "output_type": "execute_result"
    }
   ],
   "source": [
    "submission_df"
   ]
  },
  {
   "cell_type": "code",
   "execution_count": 60,
   "id": "0154c8f6",
   "metadata": {
    "execution": {
     "iopub.execute_input": "2024-02-07T17:36:07.116191Z",
     "iopub.status.busy": "2024-02-07T17:36:07.115771Z",
     "iopub.status.idle": "2024-02-07T17:36:07.154762Z",
     "shell.execute_reply": "2024-02-07T17:36:07.153563Z"
    },
    "papermill": {
     "duration": 0.073094,
     "end_time": "2024-02-07T17:36:07.157490",
     "exception": false,
     "start_time": "2024-02-07T17:36:07.084396",
     "status": "completed"
    },
    "tags": []
   },
   "outputs": [],
   "source": [
    "submission_df.to_csv(\"submission.csv\", index=False)"
   ]
  },
  {
   "cell_type": "code",
   "execution_count": null,
   "id": "cdb45d83",
   "metadata": {
    "papermill": {
     "duration": 0.030124,
     "end_time": "2024-02-07T17:36:07.217815",
     "exception": false,
     "start_time": "2024-02-07T17:36:07.187691",
     "status": "completed"
    },
    "tags": []
   },
   "outputs": [],
   "source": []
  }
 ],
 "metadata": {
  "kaggle": {
   "accelerator": "none",
   "dataSources": [
    {
     "databundleVersionId": 7609535,
     "sourceId": 68479,
     "sourceType": "competition"
    },
    {
     "datasetId": 4030196,
     "sourceId": 7009925,
     "sourceType": "datasetVersion"
    }
   ],
   "dockerImageVersionId": 30646,
   "isGpuEnabled": false,
   "isInternetEnabled": true,
   "language": "python",
   "sourceType": "notebook"
  },
  "kernelspec": {
   "display_name": "Python 3",
   "language": "python",
   "name": "python3"
  },
  "language_info": {
   "codemirror_mode": {
    "name": "ipython",
    "version": 3
   },
   "file_extension": ".py",
   "mimetype": "text/x-python",
   "name": "python",
   "nbconvert_exporter": "python",
   "pygments_lexer": "ipython3",
   "version": "3.10.13"
  },
  "papermill": {
   "default_parameters": {},
   "duration": 7047.457935,
   "end_time": "2024-02-07T17:36:08.394133",
   "environment_variables": {},
   "exception": null,
   "input_path": "__notebook__.ipynb",
   "output_path": "__notebook__.ipynb",
   "parameters": {},
   "start_time": "2024-02-07T15:38:40.936198",
   "version": "2.5.0"
  }
 },
 "nbformat": 4,
 "nbformat_minor": 5
}
